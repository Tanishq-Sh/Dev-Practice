{
 "cells": [
  {
   "cell_type": "code",
   "execution_count": 17,
   "metadata": {},
   "outputs": [],
   "source": [
    "import numpy as np\n",
    "from time import time"
   ]
  },
  {
   "cell_type": "markdown",
   "metadata": {},
   "source": [
    "## Comparing non-vectorized and vectorized versions"
   ]
  },
  {
   "cell_type": "code",
   "execution_count": 14,
   "metadata": {},
   "outputs": [],
   "source": [
    "def my_dot(a, b):\n",
    "    \n",
    "    \"\"\"\n",
    "    Compute the dot product of two vectors\n",
    "    \n",
    "    Args:\n",
    "        a (ndarray (n,)): input vector\n",
    "        b (ndarray (n,)): input vector with same dimension as a\n",
    "        \n",
    "    Returns:\n",
    "        x (scalar):\n",
    "    \"\"\"\n",
    "    x = 0\n",
    "    for i in range(len(a)):\n",
    "        x = x + a[i] * b[i]\n",
    "    return x    "
   ]
  },
  {
   "cell_type": "code",
   "execution_count": 20,
   "metadata": {},
   "outputs": [
    {
     "name": "stdout",
     "output_type": "stream",
     "text": [
      "my_dot(a,b) = 2499725.4949\n",
      "Loop version duration: 1176.0640 ms\n",
      "np.dot(a,b) = 2499725.4949\n",
      "Vectorized version duration: 3.5951 ms\n"
     ]
    }
   ],
   "source": [
    "b = np.random.rand(10000000)\n",
    "a = np.random.rand(10000000)\n",
    "\n",
    "start = time()\n",
    "c = my_dot(a, b)\n",
    "end = time()\n",
    "\n",
    "print(f\"my_dot(a,b) = {c:.4f}\")\n",
    "print(f\"Loop version duration: {1000*(end-start):.4f} ms\")\n",
    "\n",
    "start = time()\n",
    "c = np.dot(a, b)\n",
    "end = time()\n",
    "\n",
    "print(f\"np.dot(a,b) = {c:.4f}\")\n",
    "print(f\"Vectorized version duration: {1000*(end-start):.4f} ms\")\n"
   ]
  },
  {
   "cell_type": "code",
   "execution_count": null,
   "metadata": {},
   "outputs": [],
   "source": []
  }
 ],
 "metadata": {
  "kernelspec": {
   "display_name": "se_env",
   "language": "python",
   "name": "se_env"
  },
  "language_info": {
   "codemirror_mode": {
    "name": "ipython",
    "version": 3
   },
   "file_extension": ".py",
   "mimetype": "text/x-python",
   "name": "python",
   "nbconvert_exporter": "python",
   "pygments_lexer": "ipython3",
   "version": "3.12.3"
  }
 },
 "nbformat": 4,
 "nbformat_minor": 2
}
