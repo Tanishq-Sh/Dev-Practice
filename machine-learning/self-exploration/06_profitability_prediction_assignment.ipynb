{
 "cells": [
  {
   "cell_type": "code",
   "execution_count": 1,
   "metadata": {},
   "outputs": [],
   "source": [
    "import numpy as np\n",
    "import matplotlib.pyplot as plt\n",
    "from sklearn.linear_model import SGDRegressor\n",
    "from sklearn.preprocessing import StandardScaler"
   ]
  },
  {
   "cell_type": "markdown",
   "metadata": {},
   "source": [
    "## Read training data from file"
   ]
  },
  {
   "cell_type": "code",
   "execution_count": 2,
   "metadata": {},
   "outputs": [],
   "source": [
    "file_path = 'data/ex1data1.txt'\n",
    "training_data = np.loadtxt(file_path, delimiter=',')"
   ]
  },
  {
   "cell_type": "code",
   "execution_count": 3,
   "metadata": {},
   "outputs": [],
   "source": [
    "X_train = training_data[:,0]\n",
    "y_train = training_data[:,1]"
   ]
  },
  {
   "cell_type": "code",
   "execution_count": 4,
   "metadata": {},
   "outputs": [
    {
     "data": {
      "text/plain": [
       "array([ 6.1101,  5.5277,  8.5186,  7.0032,  5.8598,  8.3829,  7.4764,\n",
       "        8.5781,  6.4862,  5.0546,  5.7107, 14.164 ,  5.734 ,  8.4084,\n",
       "        5.6407,  5.3794,  6.3654,  5.1301,  6.4296,  7.0708,  6.1891,\n",
       "       20.27  ,  5.4901,  6.3261,  5.5649, 18.945 , 12.828 , 10.957 ,\n",
       "       13.176 , 22.203 ,  5.2524,  6.5894,  9.2482,  5.8918,  8.2111,\n",
       "        7.9334,  8.0959,  5.6063, 12.836 ,  6.3534,  5.4069,  6.8825,\n",
       "       11.708 ,  5.7737,  7.8247,  7.0931,  5.0702,  5.8014, 11.7   ,\n",
       "        5.5416,  7.5402,  5.3077,  7.4239,  7.6031,  6.3328,  6.3589,\n",
       "        6.2742,  5.6397,  9.3102,  9.4536,  8.8254,  5.1793, 21.279 ,\n",
       "       14.908 , 18.959 ,  7.2182,  8.2951, 10.236 ,  5.4994, 20.341 ,\n",
       "       10.136 ,  7.3345,  6.0062,  7.2259,  5.0269,  6.5479,  7.5386,\n",
       "        5.0365, 10.274 ,  5.1077,  5.7292,  5.1884,  6.3557,  9.7687,\n",
       "        6.5159,  8.5172,  9.1802,  6.002 ,  5.5204,  5.0594,  5.7077,\n",
       "        7.6366,  5.8707,  5.3054,  8.2934, 13.394 ,  5.4369])"
      ]
     },
     "execution_count": 4,
     "metadata": {},
     "output_type": "execute_result"
    }
   ],
   "source": [
    "X_train"
   ]
  },
  {
   "cell_type": "code",
   "execution_count": 5,
   "metadata": {},
   "outputs": [],
   "source": [
    "X_train = X_train.reshape(-1,1)"
   ]
  },
  {
   "cell_type": "code",
   "execution_count": 6,
   "metadata": {},
   "outputs": [
    {
     "data": {
      "text/plain": [
       "array([17.592  ,  9.1302 , 13.662  , 11.854  ,  6.8233 , 11.886  ,\n",
       "        4.3483 , 12.     ,  6.5987 ,  3.8166 ,  3.2522 , 15.505  ,\n",
       "        3.1551 ,  7.2258 ,  0.71618,  3.5129 ,  5.3048 ,  0.56077,\n",
       "        3.6518 ,  5.3893 ,  3.1386 , 21.767  ,  4.263  ,  5.1875 ,\n",
       "        3.0825 , 22.638  , 13.501  ,  7.0467 , 14.692  , 24.147  ,\n",
       "       -1.22   ,  5.9966 , 12.134  ,  1.8495 ,  6.5426 ,  4.5623 ,\n",
       "        4.1164 ,  3.3928 , 10.117  ,  5.4974 ,  0.55657,  3.9115 ,\n",
       "        5.3854 ,  2.4406 ,  6.7318 ,  1.0463 ,  5.1337 ,  1.844  ,\n",
       "        8.0043 ,  1.0179 ,  6.7504 ,  1.8396 ,  4.2885 ,  4.9981 ,\n",
       "        1.4233 , -1.4211 ,  2.4756 ,  4.6042 ,  3.9624 ,  5.4141 ,\n",
       "        5.1694 , -0.74279, 17.929  , 12.054  , 17.054  ,  4.8852 ,\n",
       "        5.7442 ,  7.7754 ,  1.0173 , 20.992  ,  6.6799 ,  4.0259 ,\n",
       "        1.2784 ,  3.3411 , -2.6807 ,  0.29678,  3.8845 ,  5.7014 ,\n",
       "        6.7526 ,  2.0576 ,  0.47953,  0.20421,  0.67861,  7.5435 ,\n",
       "        5.3436 ,  4.2415 ,  6.7981 ,  0.92695,  0.152  ,  2.8214 ,\n",
       "        1.8451 ,  4.2959 ,  7.2029 ,  1.9869 ,  0.14454,  9.0551 ,\n",
       "        0.61705])"
      ]
     },
     "execution_count": 6,
     "metadata": {},
     "output_type": "execute_result"
    }
   ],
   "source": [
    "y_train"
   ]
  },
  {
   "cell_type": "code",
   "execution_count": 7,
   "metadata": {},
   "outputs": [],
   "source": [
    "# y_train = y_train.reshape(-1,1)"
   ]
  },
  {
   "cell_type": "markdown",
   "metadata": {},
   "source": [
    "## Normalize the data"
   ]
  },
  {
   "cell_type": "code",
   "execution_count": 8,
   "metadata": {},
   "outputs": [],
   "source": [
    "scalar = StandardScaler()\n",
    "X_norm = scalar.fit_transform(X_train)"
   ]
  },
  {
   "cell_type": "code",
   "execution_count": 9,
   "metadata": {},
   "outputs": [
    {
     "data": {
      "text/plain": [
       "array([[-0.53240565],\n",
       "       [-0.68368294],\n",
       "       [ 0.09319761],\n",
       "       [-0.30042464],\n",
       "       [-0.5974206 ],\n",
       "       [ 0.0579498 ],\n",
       "       [-0.17751184],\n",
       "       [ 0.10865262],\n",
       "       [-0.4347144 ],\n",
       "       [-0.80656976],\n",
       "       [-0.63614904],\n",
       "       [ 1.55957946],\n",
       "       [-0.63009691],\n",
       "       [ 0.06457337],\n",
       "       [-0.6543314 ],\n",
       "       [-0.72220358],\n",
       "       [-0.46609197],\n",
       "       [-0.78695878],\n",
       "       [-0.44941614],\n",
       "       [-0.28286567],\n",
       "       [-0.51188555],\n",
       "       [ 3.14560127],\n",
       "       [-0.69344947],\n",
       "       [-0.47630007],\n",
       "       [-0.67402031],\n",
       "       [ 2.80143506],\n",
       "       [ 1.21255602],\n",
       "       [ 0.72656735],\n",
       "       [ 1.30294835],\n",
       "       [ 3.64769432],\n",
       "       [-0.75519159],\n",
       "       [-0.40790839],\n",
       "       [ 0.28270982],\n",
       "       [-0.58910866],\n",
       "       [ 0.01332508],\n",
       "       [-0.05880697],\n",
       "       [-0.0165979 ],\n",
       "       [-0.66326674],\n",
       "       [ 1.214634  ],\n",
       "       [-0.46920894],\n",
       "       [-0.71506051],\n",
       "       [-0.33177623],\n",
       "       [ 0.92163816],\n",
       "       [-0.61978491],\n",
       "       [-0.08704158],\n",
       "       [-0.27707328],\n",
       "       [-0.80251769],\n",
       "       [-0.61258989],\n",
       "       [ 0.91956017],\n",
       "       [-0.68007244],\n",
       "       [-0.16093991],\n",
       "       [-0.74082752],\n",
       "       [-0.19114862],\n",
       "       [-0.14460176],\n",
       "       [-0.47455975],\n",
       "       [-0.46778033],\n",
       "       [-0.48978099],\n",
       "       [-0.65459115],\n",
       "       [ 0.2988142 ],\n",
       "       [ 0.33606207],\n",
       "       [ 0.17288833],\n",
       "       [-0.77417917],\n",
       "       [ 3.40768709],\n",
       "       [ 1.75283204],\n",
       "       [ 2.80507153],\n",
       "       [-0.2445788 ],\n",
       "       [ 0.03514392],\n",
       "       [ 0.53928898],\n",
       "       [-0.69103381],\n",
       "       [ 3.16404339],\n",
       "       [ 0.51331417],\n",
       "       [-0.2143701 ],\n",
       "       [-0.55939348],\n",
       "       [-0.24257874],\n",
       "       [-0.81376478],\n",
       "       [-0.41868794],\n",
       "       [-0.16135551],\n",
       "       [-0.8112712 ],\n",
       "       [ 0.5491594 ],\n",
       "       [-0.79277713],\n",
       "       [-0.6313437 ],\n",
       "       [-0.77181546],\n",
       "       [-0.46861152],\n",
       "       [ 0.4179087 ],\n",
       "       [-0.42699988],\n",
       "       [ 0.09283397],\n",
       "       [ 0.26504695],\n",
       "       [-0.56048442],\n",
       "       [-0.6855791 ],\n",
       "       [-0.80532297],\n",
       "       [-0.63692828],\n",
       "       [-0.1359002 ],\n",
       "       [-0.59458934],\n",
       "       [-0.74142494],\n",
       "       [ 0.03470234],\n",
       "       [ 1.35957343],\n",
       "       [-0.70726806]])"
      ]
     },
     "execution_count": 9,
     "metadata": {},
     "output_type": "execute_result"
    }
   ],
   "source": [
    "X_norm"
   ]
  },
  {
   "cell_type": "code",
   "execution_count": 10,
   "metadata": {},
   "outputs": [],
   "source": [
    "X_features = ['City Population']"
   ]
  },
  {
   "cell_type": "markdown",
   "metadata": {},
   "source": [
    "## Use SGDRegressor to get weights (coef) and bias (intercept)"
   ]
  },
  {
   "cell_type": "code",
   "execution_count": 11,
   "metadata": {},
   "outputs": [
    {
     "name": "stdout",
     "output_type": "stream",
     "text": [
      "SGDRegressor(max_iter=10000)\n",
      "Iterations performed : 31, number of weights updated : 3008.0\n"
     ]
    }
   ],
   "source": [
    "sgdr = SGDRegressor(max_iter = 10000)\n",
    "sgdr.fit(X_norm, y_train)\n",
    "print(sgdr)\n",
    "print(f\"Iterations performed : {sgdr.n_iter_}, number of weights updated : {sgdr.t_}\")"
   ]
  },
  {
   "cell_type": "code",
   "execution_count": 12,
   "metadata": {},
   "outputs": [
    {
     "name": "stdout",
     "output_type": "stream",
     "text": [
      "Weights/Coef : [4.57460523], Bias/Intercept : [5.81562864]\n"
     ]
    }
   ],
   "source": [
    "w = sgdr.coef_\n",
    "b = sgdr.intercept_\n",
    "print(f\"Weights/Coef : {w}, Bias/Intercept : {b}\")"
   ]
  },
  {
   "cell_type": "code",
   "execution_count": 13,
   "metadata": {},
   "outputs": [],
   "source": [
    "y_pred_sgdr = sgdr.predict(X_norm)"
   ]
  },
  {
   "cell_type": "code",
   "execution_count": 14,
   "metadata": {},
   "outputs": [
    {
     "data": {
      "text/plain": [
       "[<matplotlib.lines.Line2D at 0x10e0e38f0>]"
      ]
     },
     "execution_count": 14,
     "metadata": {},
     "output_type": "execute_result"
    },
    {
     "data": {
      "image/png": "[encoded data removed]",
      "text/plain": [
       "<Figure size 700x400 with 1 Axes>"
      ]
     },
     "metadata": {},
     "output_type": "display_data"
    }
   ],
   "source": [
    "fig, ax = plt.subplots(1, 1, figsize=(7, 4))\n",
    "ax.scatter(X_train, y_train, marker = 'X', color = 'red')\n",
    "ax.plot(X_train, y_pred_sgdr)"
   ]
  },
  {
   "cell_type": "markdown",
   "metadata": {},
   "source": [
    "## Completed the exercise using sklearn!"
   ]
  }
 ],
 "metadata": {
  "kernelspec": {
   "display_name": "se_env",
   "language": "python",
   "name": "se_env"
  },
  "language_info": {
   "codemirror_mode": {
    "name": "ipython",
    "version": 3
   },
   "file_extension": ".py",
   "mimetype": "text/x-python",
   "name": "python",
   "nbconvert_exporter": "python",
   "pygments_lexer": "ipython3",
   "version": "3.12.3"
  }
 },
 "nbformat": 4,
 "nbformat_minor": 2
}
