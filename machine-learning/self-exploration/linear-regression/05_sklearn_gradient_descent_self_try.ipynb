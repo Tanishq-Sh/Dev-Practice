{
 "cells": [
  {
   "cell_type": "code",
   "execution_count": 2,
   "metadata": {},
   "outputs": [],
   "source": [
    "import numpy as np\n",
    "import matplotlib.pyplot as plt\n",
    "from sklearn.linear_model import SGDRegressor\n",
    "from sklearn.preprocessing import StandardScaler\n",
    "np.set_printoptions(precision=2)"
   ]
  },
  {
   "cell_type": "markdown",
   "metadata": {},
   "source": [
    "## Initializing the training set and model parameters"
   ]
  },
  {
   "cell_type": "code",
   "execution_count": 6,
   "metadata": {},
   "outputs": [],
   "source": [
    "x = np.arange(1, 20, 1)\n",
    "X_train = np.column_stack((x**2, x))\n",
    "y_train = x ** 2 + x\n",
    "w_init = np.array([1, 2])\n",
    "b_init = 5"
   ]
  },
  {
   "cell_type": "code",
   "execution_count": 8,
   "metadata": {},
   "outputs": [
    {
     "name": "stdout",
     "output_type": "stream",
     "text": [
      "[[  1   1]\n",
      " [  4   2]\n",
      " [  9   3]\n",
      " [ 16   4]\n",
      " [ 25   5]\n",
      " [ 36   6]\n",
      " [ 49   7]\n",
      " [ 64   8]\n",
      " [ 81   9]\n",
      " [100  10]\n",
      " [121  11]\n",
      " [144  12]\n",
      " [169  13]\n",
      " [196  14]\n",
      " [225  15]\n",
      " [256  16]\n",
      " [289  17]\n",
      " [324  18]\n",
      " [361  19]]\n"
     ]
    }
   ],
   "source": [
    "print(X_train)"
   ]
  },
  {
   "cell_type": "code",
   "execution_count": 9,
   "metadata": {},
   "outputs": [
    {
     "name": "stdout",
     "output_type": "stream",
     "text": [
      "[[-1.14 -1.64]\n",
      " [-1.12 -1.46]\n",
      " [-1.07 -1.28]\n",
      " [-1.01 -1.1 ]\n",
      " [-0.93 -0.91]\n",
      " [-0.83 -0.73]\n",
      " [-0.72 -0.55]\n",
      " [-0.59 -0.37]\n",
      " [-0.43 -0.18]\n",
      " [-0.27  0.  ]\n",
      " [-0.08  0.18]\n",
      " [ 0.12  0.37]\n",
      " [ 0.35  0.55]\n",
      " [ 0.59  0.73]\n",
      " [ 0.84  0.91]\n",
      " [ 1.12  1.1 ]\n",
      " [ 1.41  1.28]\n",
      " [ 1.72  1.46]\n",
      " [ 2.05  1.64]]\n"
     ]
    }
   ],
   "source": [
    "scalar = StandardScaler()\n",
    "X_norm = scalar.fit_transform(X_train)\n",
    "print(X_norm)"
   ]
  },
  {
   "cell_type": "code",
   "execution_count": 10,
   "metadata": {},
   "outputs": [],
   "source": [
    "X_features = ['area', 'height']"
   ]
  },
  {
   "cell_type": "code",
   "execution_count": 11,
   "metadata": {},
   "outputs": [
    {
     "name": "stdout",
     "output_type": "stream",
     "text": [
      "Peak to Peak range by column in Raw X: [360  18]\n",
      "Peak to Peak range by column in Normalized X: [3.19 3.29]\n"
     ]
    }
   ],
   "source": [
    "print(f\"Peak to Peak range by column in Raw X: {np.ptp(X_train, axis=0)}\")\n",
    "print(f\"Peak to Peak range by column in Normalized X: {np.ptp(X_norm, axis=0)}\")"
   ]
  },
  {
   "cell_type": "markdown",
   "metadata": {},
   "source": [
    "## Create and fit regression model"
   ]
  },
  {
   "cell_type": "code",
   "execution_count": 32,
   "metadata": {},
   "outputs": [
    {
     "name": "stdout",
     "output_type": "stream",
     "text": [
      "SGDRegressor(max_iter=100000)\n",
      "number of iterations completed : 4766, number of weight updates: 90555.0\n"
     ]
    }
   ],
   "source": [
    "sgdr = SGDRegressor(max_iter=100000)\n",
    "sgdr.fit(X_norm, y_train)\n",
    "print(sgdr)\n",
    "print(f\"number of iterations completed : {sgdr.n_iter_}, number of weight updates: {sgdr.t_}\")"
   ]
  },
  {
   "cell_type": "markdown",
   "metadata": {},
   "source": [
    "## View Parameters"
   ]
  },
  {
   "cell_type": "code",
   "execution_count": 33,
   "metadata": {},
   "outputs": [
    {
     "name": "stdout",
     "output_type": "stream",
     "text": [
      "Model parameters: w: [105.3   12.92], b: [140.]\n"
     ]
    }
   ],
   "source": [
    "b_norm = sgdr.intercept_\n",
    "w_norm = sgdr.coef_\n",
    "print(f\"Model parameters: w: {w_norm}, b: {b_norm}\")"
   ]
  },
  {
   "cell_type": "markdown",
   "metadata": {},
   "source": [
    "## Make Predictions"
   ]
  },
  {
   "cell_type": "code",
   "execution_count": 34,
   "metadata": {},
   "outputs": [],
   "source": [
    "y_pred_sgdr = sgdr.predict(X_norm)\n",
    "y_pred = np.dot(X_norm, w_norm) + b_norm"
   ]
  },
  {
   "cell_type": "code",
   "execution_count": 35,
   "metadata": {},
   "outputs": [
    {
     "data": {
      "text/plain": [
       "np.True_"
      ]
     },
     "execution_count": 35,
     "metadata": {},
     "output_type": "execute_result"
    }
   ],
   "source": [
    "(y_pred_sgdr == y_pred).all()"
   ]
  },
  {
   "cell_type": "markdown",
   "metadata": {},
   "source": [
    "## Plot results"
   ]
  },
  {
   "cell_type": "code",
   "execution_count": 36,
   "metadata": {},
   "outputs": [
    {
     "data": {
      "text/plain": [
       "[<matplotlib.lines.Line2D at 0x11f8a46b0>]"
      ]
     },
     "execution_count": 36,
     "metadata": {},
     "output_type": "execute_result"
    },
    {
     "data": {
      "image/png": "[encoded data removed]",
      "text/plain": [
       "<Figure size 1200x300 with 1 Axes>"
      ]
     },
     "metadata": {},
     "output_type": "display_data"
    }
   ],
   "source": [
    "fig, ax = plt.subplots(1, 1, figsize = (12, 3))\n",
    "ax.scatter(x, y, marker = 'X', color = 'red')\n",
    "ax.plot(x, y_pred_sgdr)\n"
   ]
  },
  {
   "cell_type": "markdown",
   "metadata": {},
   "source": [
    "## Was able to build it using my own custom data!"
   ]
  }
 ],
 "metadata": {
  "kernelspec": {
   "display_name": "se_env",
   "language": "python",
   "name": "se_env"
  },
  "language_info": {
   "codemirror_mode": {
    "name": "ipython",
    "version": 3
   },
   "file_extension": ".py",
   "mimetype": "text/x-python",
   "name": "python",
   "nbconvert_exporter": "python",
   "pygments_lexer": "ipython3",
   "version": "3.12.3"
  }
 },
 "nbformat": 4,
 "nbformat_minor": 2
}
