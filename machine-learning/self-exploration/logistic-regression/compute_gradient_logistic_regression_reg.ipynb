{
 "cells": [
  {
   "cell_type": "code",
   "execution_count": 1,
   "metadata": {},
   "outputs": [],
   "source": [
    "import numpy as np\n",
    "import matplotlib.pyplot as plt"
   ]
  },
  {
   "cell_type": "code",
   "execution_count": 24,
   "metadata": {},
   "outputs": [],
   "source": [
    "def sigmoid(z):\n",
    "    \n",
    "    g = 1 / (1 + np.exp(-z))\n",
    "    \n",
    "    return g\n",
    "\n",
    "def compute_gradient_with_regularization(X, y, w, b, lambda_):\n",
    "    \n",
    "    m, n = X.shape\n",
    "    w_copy = w\n",
    "    b_copy = b\n",
    "    \n",
    "    dj_dw = np.zeros((n,))\n",
    "    dj_db = 0.\n",
    "    \n",
    "    for i in range(m):\n",
    "        \n",
    "        err = (sigmoid(np.dot(X[i],w) + b)) - y[i]\n",
    "        \n",
    "        for j in range(n):\n",
    "            \n",
    "            dj_dw[j] += err * X[i, j]\n",
    "            \n",
    "        dj_db += err\n",
    "        \n",
    "    \n",
    "    for j in range(n):\n",
    "        \n",
    "        dj_dw[j] += (lambda_) * w[j]\n",
    "\n",
    "    dj_dw = dj_dw / m\n",
    "    dj_db = dj_db / m    \n",
    "    \n",
    "    \n",
    "    return dj_dw, dj_db"
   ]
  },
  {
   "cell_type": "code",
   "execution_count": 25,
   "metadata": {},
   "outputs": [
    {
     "name": "stdout",
     "output_type": "stream",
     "text": [
      "dj_db: 0.341798994972791\n",
      "Regularized dj_dw:\n",
      " [0.17380012933994293, 0.3200750788156695, 0.10776313396851497]\n"
     ]
    }
   ],
   "source": [
    "np.random.seed(1)\n",
    "X = np.random.rand(5,3)\n",
    "y = np.array([0,1,0,1,0])\n",
    "w = np.random.rand(X.shape[1])\n",
    "b = 0.5\n",
    "lambda_val = 0.7\n",
    "\n",
    "dj_dw_val, dj_db_val = compute_gradient_with_regularization(X, y, w, b, lambda_val)\n",
    "\n",
    "print(f\"dj_db: {dj_db_val}\", )\n",
    "print(f\"Regularized dj_dw:\\n {dj_dw_val.tolist()}\", )"
   ]
  },
  {
   "cell_type": "code",
   "execution_count": 26,
   "metadata": {},
   "outputs": [],
   "source": [
    "def compute_gradient_logistic_reg(X, y, w, b, lambda_): \n",
    "    \"\"\"\n",
    "    Computes the gradient for linear regression \n",
    " \n",
    "    Args:\n",
    "      X (ndarray (m,n): Data, m examples with n features\n",
    "      y (ndarray (m,)): target values\n",
    "      w (ndarray (n,)): model parameters  \n",
    "      b (scalar)      : model parameter\n",
    "      lambda_ (scalar): Controls amount of regularization\n",
    "    Returns\n",
    "      dj_dw (ndarray Shape (n,)): The gradient of the cost w.r.t. the parameters w. \n",
    "      dj_db (scalar)            : The gradient of the cost w.r.t. the parameter b. \n",
    "    \"\"\"\n",
    "    m,n = X.shape\n",
    "    dj_dw = np.zeros((n,))                            #(n,)\n",
    "    dj_db = 0.0                                       #scalar\n",
    "\n",
    "    for i in range(m):\n",
    "        f_wb_i = sigmoid(np.dot(X[i],w) + b)          #(n,)(n,)=scalar\n",
    "        err_i  = f_wb_i  - y[i]                       #scalar\n",
    "        for j in range(n):\n",
    "            dj_dw[j] = dj_dw[j] + err_i * X[i,j]      #scalar\n",
    "        dj_db = dj_db + err_i\n",
    "    dj_dw = dj_dw/m                                   #(n,)\n",
    "    dj_db = dj_db/m                                   #scalar\n",
    "\n",
    "    for j in range(n):\n",
    "        dj_dw[j] = dj_dw[j] + (lambda_/m) * w[j]\n",
    "\n",
    "    return dj_dw, dj_db"
   ]
  },
  {
   "cell_type": "code",
   "execution_count": 27,
   "metadata": {},
   "outputs": [
    {
     "name": "stdout",
     "output_type": "stream",
     "text": [
      "dj_db: 0.341798994972791\n",
      "Regularized dj_dw:\n",
      " [0.17380012933994293, 0.32007507881566943, 0.10776313396851499]\n"
     ]
    }
   ],
   "source": [
    "np.random.seed(1)\n",
    "X = np.random.rand(5,3)\n",
    "y = np.array([0,1,0,1,0])\n",
    "w = np.random.rand(X.shape[1])\n",
    "b = 0.5\n",
    "lambda_val = 0.7\n",
    "\n",
    "dj_dw_val, dj_db_val = compute_gradient_logistic_reg(X, y, w, b, lambda_val)\n",
    "\n",
    "print(f\"dj_db: {dj_db_val}\", )\n",
    "print(f\"Regularized dj_dw:\\n {dj_dw_val.tolist()}\", )"
   ]
  },
  {
   "cell_type": "markdown",
   "metadata": {},
   "source": [
    "##  Wrote function to compute gradient descent using regularized function from scratch!"
   ]
  }
 ],
 "metadata": {
  "kernelspec": {
   "display_name": "se_env",
   "language": "python",
   "name": "se_env"
  },
  "language_info": {
   "codemirror_mode": {
    "name": "ipython",
    "version": 3
   },
   "file_extension": ".py",
   "mimetype": "text/x-python",
   "name": "python",
   "nbconvert_exporter": "python",
   "pygments_lexer": "ipython3",
   "version": "3.12.3"
  }
 },
 "nbformat": 4,
 "nbformat_minor": 2
}
