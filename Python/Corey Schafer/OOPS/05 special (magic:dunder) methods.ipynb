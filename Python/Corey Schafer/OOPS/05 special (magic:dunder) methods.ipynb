{
 "cells": [
  {
   "cell_type": "code",
   "execution_count": 36,
   "metadata": {},
   "outputs": [],
   "source": [
    "class Employee:\n",
    "\n",
    "    raise_amount = 1.04\n",
    "    num_of_emps = 0\n",
    "\n",
    "    def __init__(self, first, last, pay) -> None:\n",
    "        \n",
    "        self.first = first\n",
    "        self.last = last\n",
    "        self.pay = pay\n",
    "        self.email = first + '.' + last + '@apple.com'\n",
    "        # self.email = self.first + '.' + self.last + '@apple.com'\n",
    "\n",
    "        \n",
    "        Employee.num_of_emps += 1 # no. of employees should be the same for all instances of class\n",
    "\n",
    "    def fullname(self):\n",
    "\n",
    "        # self.fullname = self.first + ' ' + self.last\n",
    "        return f'{self.first} {self.last}'\n",
    "        return self.fullname\n",
    "    \n",
    "    def apply_raise(self):\n",
    "\n",
    "        self.pay = int(self.pay * self.raise_amount) # gives flexibility to change for employee instances\n",
    "        # self.pay = int(self.pay * Employee.raise_amount) \n",
    "\n",
    "    def __repr__(self) -> str:\n",
    "        return \"Employee('{}','{}','{}')\".format(self.first, self.last, self.pay)\n",
    "    \n",
    "    def __str__(self) -> str:\n",
    "        return f'{self.fullname()} - {self.email}' \n",
    "    \n",
    "    def __add__(self, other):\n",
    "        return self.pay + other.pay\n",
    "    \n",
    "    def __len__(self):\n",
    "        return len(self.fullname())"
   ]
  },
  {
   "cell_type": "code",
   "execution_count": 37,
   "metadata": {},
   "outputs": [],
   "source": [
    "emp1 = Employee('Tanishq','Sharma',50000)\n",
    "emp2 = Employee('Test','User',60000)"
   ]
  },
  {
   "cell_type": "code",
   "execution_count": 38,
   "metadata": {},
   "outputs": [
    {
     "name": "stdout",
     "output_type": "stream",
     "text": [
      "Tanishq Sharma - Tanishq.Sharma@apple.com\n"
     ]
    },
    {
     "data": {
      "text/plain": [
       "\"Employee('Tanishq','Sharma','50000')\""
      ]
     },
     "execution_count": 38,
     "metadata": {},
     "output_type": "execute_result"
    }
   ],
   "source": [
    "print(emp1)\n",
    "repr(emp1)"
   ]
  },
  {
   "cell_type": "code",
   "execution_count": 39,
   "metadata": {},
   "outputs": [
    {
     "name": "stdout",
     "output_type": "stream",
     "text": [
      "Employee('Tanishq','Sharma','50000')\n",
      "Tanishq Sharma - Tanishq.Sharma@apple.com\n"
     ]
    }
   ],
   "source": [
    "print(emp1.__repr__())\n",
    "print(emp1.__str__())"
   ]
  },
  {
   "cell_type": "code",
   "execution_count": 40,
   "metadata": {},
   "outputs": [
    {
     "name": "stdout",
     "output_type": "stream",
     "text": [
      "110000\n"
     ]
    }
   ],
   "source": [
    "print(emp1 + emp2)"
   ]
  },
  {
   "cell_type": "code",
   "execution_count": 41,
   "metadata": {},
   "outputs": [
    {
     "name": "stdout",
     "output_type": "stream",
     "text": [
      "14\n"
     ]
    }
   ],
   "source": [
    "print(len(emp1))"
   ]
  },
  {
   "cell_type": "code",
   "execution_count": null,
   "metadata": {},
   "outputs": [],
   "source": []
  }
 ],
 "metadata": {
  "kernelspec": {
   "display_name": ".venv",
   "language": "python",
   "name": "python3"
  },
  "language_info": {
   "codemirror_mode": {
    "name": "ipython",
    "version": 3
   },
   "file_extension": ".py",
   "mimetype": "text/x-python",
   "name": "python",
   "nbconvert_exporter": "python",
   "pygments_lexer": "ipython3",
   "version": "3.12.3"
  }
 },
 "nbformat": 4,
 "nbformat_minor": 2
}
