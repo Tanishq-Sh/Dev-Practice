{
 "cells": [
  {
   "cell_type": "markdown",
   "metadata": {},
   "source": [
    "### -> Regular methods automatically takes instances as the first argument\n",
    "\n",
    "### -> Class methods takes class as the first argument\n",
    "### -> Class methods can be used as alternative constructors\n",
    "\n",
    "### -> Static methods don't take instances or class as the first argument\n",
    "### -> We don't access any instances or class withing the static method"
   ]
  },
  {
   "cell_type": "code",
   "execution_count": 15,
   "metadata": {},
   "outputs": [],
   "source": [
    "class Employee:\n",
    "\n",
    "    raise_amount = 1.04\n",
    "    num_of_emps = 0\n",
    "\n",
    "    def __init__(self, first, last, pay) -> None:\n",
    "        \n",
    "        self.first = first\n",
    "        self.last = last\n",
    "        self.pay = pay\n",
    "        self.email = first + '.' + last + '@apple.com'\n",
    "        # self.email = self.first + '.' + self.last + '@apple.com'\n",
    "\n",
    "        \n",
    "        Employee.num_of_emps += 1 # no. of employees should be the same for all instances of class\n",
    "\n",
    "    def fullname(self):\n",
    "\n",
    "        self.fullname = self.first + ' ' + self.last\n",
    "        return self.fullname\n",
    "    \n",
    "    def apply_raise(self):\n",
    "\n",
    "        self.pay = int(self.pay * self.raise_amount) # gives flexibility to change for employee instances\n",
    "        # self.pay = int(self.pay * Employee.raise_amount) \n",
    "\n",
    "    \n",
    "    @classmethod\n",
    "    def set_raise_amt(cls, amount):\n",
    "        cls.raise_amount = amount\n",
    "\n",
    "\n",
    "    @classmethod\n",
    "    def from_string(cls, emp_str):\n",
    "\n",
    "        first, last, pay = emp_str.split('-')\n",
    "        return cls(first, last, pay)\n",
    "    \n",
    "    @staticmethod\n",
    "    def is_workday(day):\n",
    "        if day.weekday() == 5 or day.weekday() == 6:\n",
    "            return False\n",
    "        else:\n",
    "            return True"
   ]
  },
  {
   "cell_type": "code",
   "execution_count": 16,
   "metadata": {},
   "outputs": [],
   "source": [
    "emp1 = Employee('Tanishq', 'Sharma', 50000)\n",
    "emp2 = Employee('Test', 'User', 10000)"
   ]
  },
  {
   "cell_type": "code",
   "execution_count": 17,
   "metadata": {},
   "outputs": [
    {
     "name": "stdout",
     "output_type": "stream",
     "text": [
      "1.05\n",
      "1.05\n",
      "1.05\n"
     ]
    }
   ],
   "source": [
    "Employee.set_raise_amt(1.05)\n",
    "\n",
    "print(Employee.raise_amount)\n",
    "print(emp1.raise_amount)\n",
    "print(emp2.raise_amount)"
   ]
  },
  {
   "cell_type": "code",
   "execution_count": 18,
   "metadata": {},
   "outputs": [
    {
     "name": "stdout",
     "output_type": "stream",
     "text": [
      "Jon.Doe@apple.com\n",
      "70000\n"
     ]
    }
   ],
   "source": [
    "emp1_str = 'Jon-Doe-70000'\n",
    "emp2_str = 'Steve-Smith-30000'\n",
    "emp3_str = 'Jane-Doe-90000'\n",
    "\n",
    "\n",
    "first, last, pay = emp1_str.split('-')\n",
    "\n",
    "new_emp1 = Employee(first, last, pay)\n",
    "\n",
    "print(new_emp1.email)\n",
    "print(new_emp1.pay)"
   ]
  },
  {
   "cell_type": "code",
   "execution_count": 19,
   "metadata": {},
   "outputs": [
    {
     "name": "stdout",
     "output_type": "stream",
     "text": [
      "Jon.Doe@apple.com\n"
     ]
    }
   ],
   "source": [
    "new_emp1 = Employee.from_string(emp1_str)\n",
    "print(new_emp1.email)"
   ]
  },
  {
   "cell_type": "code",
   "execution_count": 20,
   "metadata": {},
   "outputs": [
    {
     "name": "stdout",
     "output_type": "stream",
     "text": [
      "False\n"
     ]
    }
   ],
   "source": [
    "import datetime \n",
    "\n",
    "my_date = datetime.date(2024, 5, 11)\n",
    "\n",
    "print(Employee.is_workday(my_date))"
   ]
  },
  {
   "cell_type": "code",
   "execution_count": null,
   "metadata": {},
   "outputs": [],
   "source": []
  }
 ],
 "metadata": {
  "kernelspec": {
   "display_name": ".venv",
   "language": "python",
   "name": "python3"
  },
  "language_info": {
   "codemirror_mode": {
    "name": "ipython",
    "version": 3
   },
   "file_extension": ".py",
   "mimetype": "text/x-python",
   "name": "python",
   "nbconvert_exporter": "python",
   "pygments_lexer": "ipython3",
   "version": "3.12.3"
  }
 },
 "nbformat": 4,
 "nbformat_minor": 2
}
