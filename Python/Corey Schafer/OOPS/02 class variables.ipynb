{
 "cells": [
  {
   "cell_type": "markdown",
   "metadata": {},
   "source": [
    "## Class variables are the same across instances unlike instance variables"
   ]
  },
  {
   "cell_type": "markdown",
   "metadata": {},
   "source": [
    "### -> We have to access the class variable using class itself or using the instance of class"
   ]
  },
  {
   "cell_type": "code",
   "execution_count": 14,
   "metadata": {},
   "outputs": [],
   "source": [
    "class Employee:\n",
    "\n",
    "    raise_amount = 1.04\n",
    "    num_of_emps = 0\n",
    "\n",
    "    def __init__(self, first, last, pay) -> None:\n",
    "        \n",
    "        self.first = first\n",
    "        self.last = last\n",
    "        self.pay = pay\n",
    "        self.email = first + '.' + last + '@apple.com'\n",
    "        # self.email = self.first + '.' + self.last + '@apple.com'\n",
    "\n",
    "        \n",
    "        Employee.num_of_emps += 1 # no. of employees should be the same for all instances of class\n",
    "\n",
    "    def fullname(self):\n",
    "\n",
    "        self.fullname = self.first + ' ' + self.last\n",
    "        return self.fullname\n",
    "    \n",
    "    def apply_raise(self):\n",
    "\n",
    "        self.pay = int(self.pay * self.raise_amount) # gives flexibility to change for employee instances\n",
    "        # self.pay = int(self.pay * Employee.raise_amount) \n"
   ]
  },
  {
   "cell_type": "code",
   "execution_count": 15,
   "metadata": {},
   "outputs": [
    {
     "name": "stdout",
     "output_type": "stream",
     "text": [
      "0\n",
      "2\n"
     ]
    }
   ],
   "source": [
    "print(Employee.num_of_emps)\n",
    "\n",
    "emp1 = Employee('Tanishq', 'Sharma', 100000)\n",
    "emp2 = Employee('Test', 'User', 40000)\n",
    "\n",
    "print(Employee.num_of_emps)"
   ]
  },
  {
   "cell_type": "code",
   "execution_count": 4,
   "metadata": {},
   "outputs": [
    {
     "name": "stdout",
     "output_type": "stream",
     "text": [
      "100000\n",
      "104000\n"
     ]
    }
   ],
   "source": [
    "print(emp1.pay)\n",
    "\n",
    "emp1.apply_raise()\n",
    "\n",
    "print(emp1.pay)"
   ]
  },
  {
   "cell_type": "markdown",
   "metadata": {},
   "source": [
    "### -> When we try to access an attribute on an instance, it first tries to see if the instance contains that attribute, if it doesn't, then it will see if any class or class it inherits from contains the attribute "
   ]
  },
  {
   "cell_type": "code",
   "execution_count": 5,
   "metadata": {},
   "outputs": [
    {
     "name": "stdout",
     "output_type": "stream",
     "text": [
      "{'first': 'Tanishq', 'last': 'Sharma', 'pay': 104000, 'email': 'Tanishq.Sharma@apple.com'}\n",
      "{'__module__': '__main__', 'raise_amount': 1.04, '__init__': <function Employee.__init__ at 0x106130040>, 'fullname': <function Employee.fullname at 0x1061302c0>, 'apply_raise': <function Employee.apply_raise at 0x106130680>, '__dict__': <attribute '__dict__' of 'Employee' objects>, '__weakref__': <attribute '__weakref__' of 'Employee' objects>, '__doc__': None}\n"
     ]
    }
   ],
   "source": [
    "print(emp1.__dict__) # no raise_amount present here\n",
    "\n",
    "print(Employee.__dict__) # raise amount present"
   ]
  },
  {
   "cell_type": "code",
   "execution_count": 6,
   "metadata": {},
   "outputs": [
    {
     "name": "stdout",
     "output_type": "stream",
     "text": [
      "1.04\n",
      "1.04\n",
      "1.04\n"
     ]
    }
   ],
   "source": [
    "print(Employee.raise_amount)\n",
    "print(emp1.raise_amount)\n",
    "print(emp2.raise_amount)"
   ]
  },
  {
   "cell_type": "code",
   "execution_count": null,
   "metadata": {},
   "outputs": [],
   "source": [
    "Employee.raise_amount = 1.05\n",
    "\n",
    "print(Employee.raise_amount)\n",
    "print(emp1.raise_amount)\n",
    "print(emp2.raise_amount)"
   ]
  },
  {
   "cell_type": "markdown",
   "metadata": {},
   "source": [
    "### -> When we change the class variable for an instance then it creates the raise_amount attribute within emp1"
   ]
  },
  {
   "cell_type": "code",
   "execution_count": 9,
   "metadata": {},
   "outputs": [
    {
     "name": "stdout",
     "output_type": "stream",
     "text": [
      "{'first': 'Tanishq', 'last': 'Sharma', 'pay': 104000, 'email': 'Tanishq.Sharma@apple.com', 'raise_amount': 1.05}\n",
      "1.04\n",
      "1.05\n",
      "1.04\n"
     ]
    }
   ],
   "source": [
    "emp1.raise_amount = 1.05\n",
    "\n",
    "print(emp1.__dict__) #checking the namespace\n",
    "\n",
    "print(Employee.raise_amount)\n",
    "print(emp1.raise_amount)\n",
    "print(emp2.raise_amount)"
   ]
  },
  {
   "cell_type": "code",
   "execution_count": null,
   "metadata": {},
   "outputs": [],
   "source": []
  }
 ],
 "metadata": {
  "kernelspec": {
   "display_name": ".venv",
   "language": "python",
   "name": "python3"
  },
  "language_info": {
   "codemirror_mode": {
    "name": "ipython",
    "version": 3
   },
   "file_extension": ".py",
   "mimetype": "text/x-python",
   "name": "python",
   "nbconvert_exporter": "python",
   "pygments_lexer": "ipython3",
   "version": "3.12.3"
  }
 },
 "nbformat": 4,
 "nbformat_minor": 2
}
