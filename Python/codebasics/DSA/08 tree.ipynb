{
 "cells": [
  {
   "cell_type": "markdown",
   "metadata": {},
   "source": [
    "## Tree"
   ]
  },
  {
   "cell_type": "code",
   "execution_count": 48,
   "metadata": {},
   "outputs": [],
   "source": [
    "class TreeNode:\n",
    "\n",
    "    def __init__(self, data) -> None:\n",
    "        self.data = data\n",
    "        self.parent = None \n",
    "        self.children = []\n",
    "\n",
    "    def add_child(self, child):\n",
    "        child.parent = self\n",
    "        self.children.append(child)\n",
    "\n",
    "    def get_level(self):\n",
    "        level = 0\n",
    "        p = self.parent\n",
    "        while p:\n",
    "            level += 1\n",
    "            p = p.parent\n",
    "\n",
    "        return level\n",
    "    \n",
    "    def print_tree(self):\n",
    "        space = ' ' * self.get_level() * 4\n",
    "        prefix = space + '|__' if self.parent else ''\n",
    "\n",
    "        print(prefix + self.data)\n",
    "\n",
    "        if self.children:\n",
    "            for child in self.children:\n",
    "                child.print_tree()\n",
    "\n"
   ]
  },
  {
   "cell_type": "code",
   "execution_count": 49,
   "metadata": {},
   "outputs": [],
   "source": [
    "def build_product_tree():\n",
    "\n",
    "    root = TreeNode(\"Electronics\")\n",
    "\n",
    "    laptop = TreeNode(\"Laptop\")\n",
    "    laptop.add_child(TreeNode(\"Mac\"))\n",
    "    laptop.add_child(TreeNode(\"Surface\"))\n",
    "    laptop.add_child(TreeNode(\"Thinkpad\"))\n",
    "    \n",
    "    cellphone = TreeNode(\"Cell Phone\")\n",
    "    cellphone.add_child(TreeNode(\"iPhone\"))\n",
    "    cellphone.add_child(TreeNode(\"Vivo\"))\n",
    "    cellphone.add_child(TreeNode(\"Google Pixel\"))\n",
    "    tv = TreeNode(\"TV\")\n",
    "    tv.add_child(TreeNode(\"Samsung\"))\n",
    "    tv.add_child(TreeNode(\"LG\"))\n",
    "\n",
    "    root.add_child(laptop)\n",
    "    root.add_child(cellphone)\n",
    "    root.add_child(tv)\n",
    "\n",
    "    return root\n"
   ]
  },
  {
   "cell_type": "code",
   "execution_count": 50,
   "metadata": {},
   "outputs": [
    {
     "name": "stdout",
     "output_type": "stream",
     "text": [
      "Electronics\n",
      "    |__Laptop\n",
      "        |__Mac\n",
      "        |__Surface\n",
      "        |__Thinkpad\n",
      "    |__Cell Phone\n",
      "        |__iPhone\n",
      "        |__Google Pixel\n",
      "        |__Vivo\n",
      "    |__TV\n",
      "        |__Samsung\n",
      "        |__LG\n"
     ]
    }
   ],
   "source": [
    "if __name__ == '__main__':\n",
    "    root = build_product_tree()\n",
    "    root.print_tree()\n",
    "    # print(root, root.data, root.parent, root.children, root.children[0].data, root.children[0].parent, root.children[0].children)\n",
    "    # print(root.data, root.parent, root.children, root.children.data, root.children.parent, root.children.children)\n",
    "    pass"
   ]
  },
  {
   "cell_type": "code",
   "execution_count": 28,
   "metadata": {},
   "outputs": [
    {
     "name": "stdout",
     "output_type": "stream",
     "text": [
      "Laptop\n",
      "Cell Phone\n",
      "TV\n"
     ]
    }
   ],
   "source": [
    "for i in root.children:\n",
    "    print(i.data)"
   ]
  },
  {
   "cell_type": "markdown",
   "metadata": {},
   "source": [
    "## Nilupul (CEO)\n",
    "### --- Chinmay (CTO)\n",
    "#### ------ Vishwa (Infrastructure Head)\n",
    "##### ------------ Dhaval (Cloud Manager)\n",
    "##### ------------ Abhijeet (App Manager)\n",
    "#### ------ Aamir (Application Head)\n",
    "### --- Gels (HR Head)\n",
    "#### ------ Peter (Recruitment Manager)\n",
    "#### ------ Waqus (Policy Manager)\n"
   ]
  },
  {
   "cell_type": "code",
   "execution_count": 68,
   "metadata": {},
   "outputs": [],
   "source": [
    "class TreeNodeHierarchy:\n",
    "\n",
    "    def __init__(self, name, designation) -> None:\n",
    "        self.name = name\n",
    "        self.designation = designation\n",
    "        self.parent = None \n",
    "        self.children = []\n",
    "\n",
    "    def add_child(self, child):\n",
    "        child.parent = self\n",
    "        self.children.append(child)\n",
    "\n",
    "    def get_level(self):\n",
    "        level = 0\n",
    "        p = self.parent\n",
    "        while p:\n",
    "            level += 1\n",
    "            p = p.parent\n",
    "\n",
    "        return level\n",
    "    \n",
    "    def print_tree(self, tree_name='both'):\n",
    "        space = ' ' * self.get_level() * 4\n",
    "        prefix = space + '|__' if self.parent else ''\n",
    "\n",
    "        if tree_name == 'both':\n",
    "            print(prefix + self.name + ' (' + self.designation + ')')\n",
    "        elif tree_name == 'name':\n",
    "            print(prefix + self.name)\n",
    "        elif tree_name == 'designation':\n",
    "            print(prefix + self.designation)\n",
    "\n",
    "        if self.children:\n",
    "            for child in self.children:\n",
    "                child.print_tree(tree_name)\n",
    "\n"
   ]
  },
  {
   "cell_type": "code",
   "execution_count": 69,
   "metadata": {},
   "outputs": [],
   "source": [
    "def build_hierarchy_tree():\n",
    "\n",
    "    root = TreeNodeHierarchy(\"Nilupul\", \"CEO\")\n",
    "\n",
    "\n",
    "    level2_1 = TreeNodeHierarchy(\"Vishwa\", \"Infrastructure Head\")\n",
    "    level2_1.add_child(TreeNodeHierarchy(\"Dhaval\", \"Cloud Manager\"))\n",
    "    level2_1.add_child(TreeNodeHierarchy(\"Abhijeet\", \"App Manager\"))\n",
    "    \n",
    "    level2_2 = TreeNodeHierarchy(\"Aamir\", \"Application Head\")\n",
    "    \n",
    "    level2_3 = TreeNodeHierarchy(\"Peter\", \"Recruitment Manager\")\n",
    "    \n",
    "    level2_4 = TreeNodeHierarchy(\"Waqus\", \"Policy Manager\")\n",
    "    \n",
    "    level1_1 = TreeNodeHierarchy(\"Chinmay\", \"CTO\")\n",
    "    level1_1.add_child(level2_1)\n",
    "    level1_1.add_child(level2_2)\n",
    "\n",
    "    level1_2 = TreeNodeHierarchy(\"Gels\", \"HR Head\")\n",
    "    level1_2.add_child(level2_3)\n",
    "    level1_2.add_child(level2_4)\n",
    "\n",
    "    root.add_child(level1_1)\n",
    "    root.add_child(level1_2)\n",
    "\n",
    "    return root"
   ]
  },
  {
   "cell_type": "code",
   "execution_count": 71,
   "metadata": {},
   "outputs": [
    {
     "name": "stdout",
     "output_type": "stream",
     "text": [
      "CEO\n",
      "    |__CTO\n",
      "        |__Infrastructure Head\n",
      "            |__Cloud Manager\n",
      "            |__App Manager\n",
      "        |__Application Head\n",
      "    |__HR Head\n",
      "        |__Recruitment Manager\n",
      "        |__Policy Manager\n"
     ]
    }
   ],
   "source": [
    "if __name__ == '__main__':\n",
    "\n",
    "    root = build_hierarchy_tree()\n",
    "    root.print_tree('designation')"
   ]
  },
  {
   "cell_type": "markdown",
   "metadata": {},
   "source": [
    "### Q2"
   ]
  },
  {
   "cell_type": "code",
   "execution_count": 124,
   "metadata": {},
   "outputs": [],
   "source": [
    "class TreeNodeCountry:\n",
    "\n",
    "    def __init__(self, data) -> None:\n",
    "        self.data = data\n",
    "        self.parent = None \n",
    "        self.children = []\n",
    "\n",
    "    def add_child(self, child):\n",
    "        child.parent = self\n",
    "        self.children.append(child)\n",
    "\n",
    "    def get_level(self):\n",
    "        level = 0\n",
    "        p = self.parent\n",
    "        while p:\n",
    "            level += 1\n",
    "            p = p.parent\n",
    "\n",
    "        return level\n",
    "    \n",
    "    def print_tree(self):\n",
    "        space = ' ' * self.get_level() * 4\n",
    "        prefix = space + '|__' if self.parent else ''\n",
    "\n",
    "        print(prefix + self.data)\n",
    "\n",
    "        if self.children:\n",
    "            for child in self.children:\n",
    "                child.print_tree()\n",
    "\n",
    "    def print_tree_by_level(self, level):\n",
    "\n",
    "        if self.get_level() <= level:\n",
    "\n",
    "            space = ' ' * self.get_level() * 4\n",
    "            prefix = space + '|__' if self.parent else ''\n",
    "\n",
    "            print(prefix + self.data)\n",
    "\n",
    "            count = 0\n",
    "\n",
    "            if self.children:\n",
    "                for child in self.children:\n",
    "                    child.print_tree_by_level(level)\n"
   ]
  },
  {
   "cell_type": "code",
   "execution_count": 125,
   "metadata": {},
   "outputs": [],
   "source": [
    "def build_country_tree():\n",
    "\n",
    "    root = TreeNodeCountry(\"Global\")\n",
    "\n",
    "    level2_1 = TreeNodeCountry(\"Gujarat\")\n",
    "    level2_1.add_child(TreeNodeCountry(\"Ahmedabad\"))\n",
    "    level2_1.add_child(TreeNodeCountry(\"Baroda\"))\n",
    "\n",
    "    level2_2 = TreeNodeCountry(\"Karnataka\")\n",
    "    level2_2.add_child(TreeNodeCountry(\"Bengaluru\"))\n",
    "    level2_2.add_child(TreeNodeCountry(\"Mysore\"))\n",
    "\n",
    "    level2_3 = TreeNodeCountry(\"New Jersey\")\n",
    "    level2_3.add_child(TreeNodeCountry(\"Princeton\"))\n",
    "    level2_3.add_child(TreeNodeCountry(\"Trenton\"))\n",
    "    \n",
    "    level2_4 = TreeNodeCountry(\"California\")\n",
    "    level2_4.add_child(TreeNodeCountry(\"San Fransisco\"))\n",
    "    level2_4.add_child(TreeNodeCountry(\"Palo Alto\"))\n",
    "    \n",
    "    level1_1 = TreeNodeCountry(\"India\")\n",
    "    level1_1.add_child(level2_1)\n",
    "    level1_1.add_child(level2_2)\n",
    "    \n",
    "    level1_2 = TreeNodeCountry(\"USA\")\n",
    "    level1_2.add_child(level2_3)\n",
    "    level1_2.add_child(level2_4)\n",
    "\n",
    "    root.add_child(level1_1)\n",
    "    root.add_child(level1_2)\n",
    "    return root\n"
   ]
  },
  {
   "cell_type": "code",
   "execution_count": 133,
   "metadata": {},
   "outputs": [
    {
     "name": "stdout",
     "output_type": "stream",
     "text": [
      "Global\n",
      "    |__India\n",
      "        |__Gujarat\n",
      "            |__Ahmedabad\n",
      "            |__Baroda\n",
      "        |__Karnataka\n",
      "            |__Bengaluru\n",
      "            |__Mysore\n",
      "    |__USA\n",
      "        |__New Jersey\n",
      "            |__Princeton\n",
      "            |__Trenton\n",
      "        |__California\n",
      "            |__San Fransisco\n",
      "            |__Palo Alto\n"
     ]
    }
   ],
   "source": [
    "if __name__ == '__main__':\n",
    "\n",
    "    root = build_country_tree()\n",
    "    # root.print_tree()\n",
    "    # print(root.children)\n",
    "    root.print_tree_by_level(3)"
   ]
  }
 ],
 "metadata": {
  "kernelspec": {
   "display_name": ".venv",
   "language": "python",
   "name": "python3"
  },
  "language_info": {
   "codemirror_mode": {
    "name": "ipython",
    "version": 3
   },
   "file_extension": ".py",
   "mimetype": "text/x-python",
   "name": "python",
   "nbconvert_exporter": "python",
   "pygments_lexer": "ipython3",
   "version": "3.12.3"
  }
 },
 "nbformat": 4,
 "nbformat_minor": 2
}
