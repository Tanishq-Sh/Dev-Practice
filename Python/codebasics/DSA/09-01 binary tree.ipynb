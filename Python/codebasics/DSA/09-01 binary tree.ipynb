{
 "cells": [
  {
   "cell_type": "code",
   "execution_count": 75,
   "metadata": {},
   "outputs": [],
   "source": [
    "class BinarySearchTreeNode:\n",
    "\n",
    "    def __init__(self, data) -> None:\n",
    "        self.data = data \n",
    "        self.left = None\n",
    "        self.right = None \n",
    "\n",
    "    def add_child(self, data):\n",
    "\n",
    "        if data == self.data:\n",
    "            return \n",
    "\n",
    "        if data < self.data:\n",
    "            # add to the left of the data node\n",
    "            if self.left:\n",
    "                self.left.add_child(data)\n",
    "            else:\n",
    "                self.left = BinarySearchTreeNode(data)\n",
    "\n",
    "        if data > self.data:\n",
    "            # add to the right of the data node\n",
    "            if self.right:\n",
    "                self.right.add_child(data)\n",
    "            else:\n",
    "                self.right = BinarySearchTreeNode(data)\n",
    "\n",
    "    def in_order_traversal(self):\n",
    "\n",
    "        elements = []\n",
    "\n",
    "        if self.left:\n",
    "            elements += self.left.in_order_traversal()\n",
    "            # elements.append(self.left.in_order_traversal())\n",
    "\n",
    "        elements.append(self.data)\n",
    "\n",
    "        if self.right:\n",
    "            elements += self.right.in_order_traversal()\n",
    "            # elements.append(self.right.in_order_traversal())\n",
    "\n",
    "        return elements\n",
    "    \n",
    "    # exercise methods\n",
    "    def find_min(self):\n",
    "\n",
    "        if self.left:\n",
    "            return self.left.find_min()\n",
    "\n",
    "        return self.data\n",
    "    \n",
    "    def find_max(self):\n",
    "\n",
    "        if self.right:\n",
    "            return self.right.find_max()\n",
    "\n",
    "        return self.data\n",
    "    \n",
    "    def calculate_sum(self):\n",
    "\n",
    "        sum = 0\n",
    "\n",
    "        if self.left:\n",
    "            sum += self.left.calculate_sum()\n",
    "\n",
    "        sum += self.data\n",
    "\n",
    "        if self.right:\n",
    "            sum += self.right.calculate_sum()\n",
    "\n",
    "        return sum\n",
    "    \n",
    "    def post_order_traversal(self):\n",
    "        \n",
    "        elements = []\n",
    "\n",
    "        if self.left:\n",
    "            elements += self.left.post_order_traversal()\n",
    "\n",
    "        if self.right:\n",
    "            elements += self.right.post_order_traversal()\n",
    "\n",
    "        elements.append(self.data)\n",
    "\n",
    "        return elements\n",
    "\n",
    "    \n",
    "    def pre_order_traversal(self):\n",
    "        \n",
    "        elements = []\n",
    "\n",
    "        elements.append(self.data)\n",
    "        \n",
    "        if self.left:\n",
    "            elements += self.left.pre_order_traversal()\n",
    "\n",
    "        if self.right:\n",
    "            elements += self.right.pre_order_traversal()\n",
    "\n",
    "\n",
    "        return elements\n",
    "\n",
    "        \n",
    "def build_tree(elements):\n",
    "\n",
    "    root = BinarySearchTreeNode(elements[0])\n",
    "\n",
    "    for i in range(1, len(elements)):\n",
    "        root.add_child(elements[i])\n",
    "\n",
    "    return root\n"
   ]
  },
  {
   "cell_type": "code",
   "execution_count": 76,
   "metadata": {},
   "outputs": [
    {
     "data": {
      "text/plain": [
       "[7, 12, 14, 15, 20, 23, 27, 88]"
      ]
     },
     "execution_count": 76,
     "metadata": {},
     "output_type": "execute_result"
    }
   ],
   "source": [
    "# elements = [17, 4, 1, 20, 8, 23, 18, 34]\n",
    "elements = [15, 12, 27, 7, 14, 20, 88, 23]\n",
    "# elements = [17, 4, 1, 20]\n",
    "root = build_tree(elements)\n",
    "\n",
    "root.in_order_traversal()"
   ]
  },
  {
   "cell_type": "code",
   "execution_count": 77,
   "metadata": {},
   "outputs": [
    {
     "data": {
      "text/plain": [
       "7"
      ]
     },
     "execution_count": 77,
     "metadata": {},
     "output_type": "execute_result"
    }
   ],
   "source": [
    "root.find_min()"
   ]
  },
  {
   "cell_type": "code",
   "execution_count": 78,
   "metadata": {},
   "outputs": [
    {
     "data": {
      "text/plain": [
       "88"
      ]
     },
     "execution_count": 78,
     "metadata": {},
     "output_type": "execute_result"
    }
   ],
   "source": [
    "root.find_max()"
   ]
  },
  {
   "cell_type": "code",
   "execution_count": 79,
   "metadata": {},
   "outputs": [
    {
     "data": {
      "text/plain": [
       "206"
      ]
     },
     "execution_count": 79,
     "metadata": {},
     "output_type": "execute_result"
    }
   ],
   "source": [
    "root.calculate_sum()"
   ]
  },
  {
   "cell_type": "code",
   "execution_count": 80,
   "metadata": {},
   "outputs": [
    {
     "data": {
      "text/plain": [
       "[7, 14, 12, 23, 20, 88, 27, 15]"
      ]
     },
     "execution_count": 80,
     "metadata": {},
     "output_type": "execute_result"
    }
   ],
   "source": [
    "root.post_order_traversal()"
   ]
  },
  {
   "cell_type": "code",
   "execution_count": 81,
   "metadata": {},
   "outputs": [
    {
     "data": {
      "text/plain": [
       "[15, 12, 7, 14, 27, 20, 23, 88]"
      ]
     },
     "execution_count": 81,
     "metadata": {},
     "output_type": "execute_result"
    }
   ],
   "source": [
    "root.pre_order_traversal()"
   ]
  }
 ],
 "metadata": {
  "kernelspec": {
   "display_name": ".venv",
   "language": "python",
   "name": "python3"
  },
  "language_info": {
   "codemirror_mode": {
    "name": "ipython",
    "version": 3
   },
   "file_extension": ".py",
   "mimetype": "text/x-python",
   "name": "python",
   "nbconvert_exporter": "python",
   "pygments_lexer": "ipython3",
   "version": "3.12.3"
  }
 },
 "nbformat": 4,
 "nbformat_minor": 2
}
