{
 "cells": [
  {
   "cell_type": "code",
   "execution_count": 73,
   "metadata": {},
   "outputs": [],
   "source": [
    "class Node:\n",
    "\n",
    "    def __init__(self, data, prev=None, next=None) -> None:\n",
    "        \n",
    "        self.data = data \n",
    "        self.prev = prev\n",
    "        self.next = next \n",
    "\n",
    "class LinkedList:\n",
    "\n",
    "    def __init__(self) -> None:\n",
    "        \n",
    "        self.head = None\n",
    "\n",
    "    def insert_at_start(self, data):\n",
    "\n",
    "        node = Node(data, None, self.head)\n",
    "        # print(node.prev, node.data, node.next)\n",
    "        self.head = node \n",
    "\n",
    "        if self.head.next:\n",
    "            self.head.next.prev = node\n",
    "\n",
    "        # print(node.prev, node.data, node.next)\n",
    "\n",
    "        \n",
    "\n",
    "    def print_forward(self):\n",
    "        \n",
    "        itr = self.head\n",
    "        llstr = ''\n",
    "\n",
    "        while itr:\n",
    "            llstr+= str(itr.data) + '-->'\n",
    "\n",
    "            itr = itr.next\n",
    "\n",
    "        print(llstr)            \n",
    "    \n",
    "    def print_backward(self):\n",
    "\n",
    "        itr = self.head \n",
    "        llstr = ''\n",
    "\n",
    "        while itr: \n",
    "\n",
    "            tail = itr.prev\n",
    "\n",
    "            if itr.next == None:\n",
    "                tail = itr\n",
    "\n",
    "            itr = itr.next\n",
    "\n",
    "\n",
    "        while tail:\n",
    "\n",
    "            llstr +=  str(tail.data) + '-->' \n",
    "\n",
    "            tail = tail.prev\n",
    "\n",
    "        print(llstr)\n",
    "\n"
   ]
  },
  {
   "cell_type": "code",
   "execution_count": 77,
   "metadata": {},
   "outputs": [
    {
     "name": "stdout",
     "output_type": "stream",
     "text": [
      "5-->2-->1-->\n",
      "1-->2-->5-->\n"
     ]
    }
   ],
   "source": [
    "ll = LinkedList()\n",
    "ll.insert_at_start(1)\n",
    "ll.insert_at_start(2)\n",
    "ll.insert_at_start(5)\n",
    "ll.print_forward()\n",
    "ll.print_backward()"
   ]
  },
  {
   "cell_type": "code",
   "execution_count": null,
   "metadata": {},
   "outputs": [],
   "source": []
  }
 ],
 "metadata": {
  "kernelspec": {
   "display_name": ".venv",
   "language": "python",
   "name": "python3"
  },
  "language_info": {
   "codemirror_mode": {
    "name": "ipython",
    "version": 3
   },
   "file_extension": ".py",
   "mimetype": "text/x-python",
   "name": "python",
   "nbconvert_exporter": "python",
   "pygments_lexer": "ipython3",
   "version": "3.12.3"
  }
 },
 "nbformat": 4,
 "nbformat_minor": 2
}
