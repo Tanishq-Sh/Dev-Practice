{
 "cells": [
  {
   "cell_type": "code",
   "execution_count": 30,
   "metadata": {},
   "outputs": [],
   "source": [
    "import pandas as pd\n",
    "import numpy as np"
   ]
  },
  {
   "cell_type": "code",
   "execution_count": 31,
   "metadata": {},
   "outputs": [
    {
     "data": {
      "text/html": [
       "<div>\n",
       "<style scoped>\n",
       "    .dataframe tbody tr th:only-of-type {\n",
       "        vertical-align: middle;\n",
       "    }\n",
       "\n",
       "    .dataframe tbody tr th {\n",
       "        vertical-align: top;\n",
       "    }\n",
       "\n",
       "    .dataframe thead th {\n",
       "        text-align: right;\n",
       "    }\n",
       "</style>\n",
       "<table border=\"1\" class=\"dataframe\">\n",
       "  <thead>\n",
       "    <tr style=\"text-align: right;\">\n",
       "      <th></th>\n",
       "      <th>date</th>\n",
       "      <th>temperature(F)</th>\n",
       "    </tr>\n",
       "  </thead>\n",
       "  <tbody>\n",
       "    <tr>\n",
       "      <th>0</th>\n",
       "      <td>Jan 1</td>\n",
       "      <td>27</td>\n",
       "    </tr>\n",
       "    <tr>\n",
       "      <th>1</th>\n",
       "      <td>Jan 2</td>\n",
       "      <td>31</td>\n",
       "    </tr>\n",
       "    <tr>\n",
       "      <th>2</th>\n",
       "      <td>Jan 3</td>\n",
       "      <td>23</td>\n",
       "    </tr>\n",
       "    <tr>\n",
       "      <th>3</th>\n",
       "      <td>Jan 4</td>\n",
       "      <td>34</td>\n",
       "    </tr>\n",
       "    <tr>\n",
       "      <th>4</th>\n",
       "      <td>Jan 5</td>\n",
       "      <td>37</td>\n",
       "    </tr>\n",
       "    <tr>\n",
       "      <th>5</th>\n",
       "      <td>Jan 6</td>\n",
       "      <td>38</td>\n",
       "    </tr>\n",
       "    <tr>\n",
       "      <th>6</th>\n",
       "      <td>Jan 7</td>\n",
       "      <td>29</td>\n",
       "    </tr>\n",
       "    <tr>\n",
       "      <th>7</th>\n",
       "      <td>Jan 8</td>\n",
       "      <td>30</td>\n",
       "    </tr>\n",
       "    <tr>\n",
       "      <th>8</th>\n",
       "      <td>Jan 9</td>\n",
       "      <td>35</td>\n",
       "    </tr>\n",
       "    <tr>\n",
       "      <th>9</th>\n",
       "      <td>Jan 10</td>\n",
       "      <td>30</td>\n",
       "    </tr>\n",
       "  </tbody>\n",
       "</table>\n",
       "</div>"
      ],
      "text/plain": [
       "     date  temperature(F)\n",
       "0   Jan 1              27\n",
       "1   Jan 2              31\n",
       "2   Jan 3              23\n",
       "3   Jan 4              34\n",
       "4   Jan 5              37\n",
       "5   Jan 6              38\n",
       "6   Jan 7              29\n",
       "7   Jan 8              30\n",
       "8   Jan 9              35\n",
       "9  Jan 10              30"
      ]
     },
     "execution_count": 31,
     "metadata": {},
     "output_type": "execute_result"
    }
   ],
   "source": [
    "df = pd.read_csv('data/nyc_weather.csv')\n",
    "df"
   ]
  },
  {
   "cell_type": "markdown",
   "metadata": {},
   "source": [
    "### Q1.1 What was the average temperature in first week of Jan "
   ]
  },
  {
   "cell_type": "code",
   "execution_count": 32,
   "metadata": {},
   "outputs": [
    {
     "data": {
      "text/plain": [
       "31.285714285714285"
      ]
     },
     "execution_count": 32,
     "metadata": {},
     "output_type": "execute_result"
    }
   ],
   "source": [
    "count = 0\n",
    "summ = 0\n",
    "\n",
    "for idx, element in enumerate(df.values.tolist()):\n",
    "    \n",
    "    if count <7:\n",
    "        summ += element[1]\n",
    "    else:\n",
    "        break\n",
    "\n",
    "    count += 1\n",
    "\n",
    "avg = summ/count\n",
    "\n",
    "avg"
   ]
  },
  {
   "cell_type": "markdown",
   "metadata": {},
   "source": [
    "### Q1.2 What was the maximum temperature in first 10 days of Jan"
   ]
  },
  {
   "cell_type": "code",
   "execution_count": 33,
   "metadata": {},
   "outputs": [
    {
     "data": {
      "text/plain": [
       "38"
      ]
     },
     "execution_count": 33,
     "metadata": {},
     "output_type": "execute_result"
    }
   ],
   "source": [
    "max(df['temperature(F)'].values.tolist())"
   ]
  },
  {
   "cell_type": "markdown",
   "metadata": {},
   "source": [
    "### Q1.3 Figure out data structure that is best for this problem"
   ]
  },
  {
   "cell_type": "markdown",
   "metadata": {},
   "source": [
    "I think that the best data structure for storing temperature with date is hash map"
   ]
  },
  {
   "cell_type": "markdown",
   "metadata": {},
   "source": [
    "# Hash Class"
   ]
  },
  {
   "cell_type": "code",
   "execution_count": 34,
   "metadata": {},
   "outputs": [],
   "source": [
    "class HashTable:\n",
    "\n",
    "    def __init__(self) -> None:\n",
    "        self.MAX = 10\n",
    "        self.arr = [[] for i in range(self.MAX)]\n",
    "\n",
    "    def get_hash(self, key):\n",
    "\n",
    "        h = 0\n",
    "        for char in key:\n",
    "            h+= ord(char)\n",
    "\n",
    "        return h % self.MAX\n",
    "\n",
    "    def __setitem__(self, key, val):\n",
    "\n",
    "        h = self.get_hash(key)\n",
    "        \n",
    "        found = False\n",
    "        for idx, element in enumerate(self.arr[h]):\n",
    "            \n",
    "            if len(element) == 2 and element[0] == key:\n",
    "                found = True\n",
    "                print(\"element found\")\n",
    "                self.arr[h][idx] = (key, val)\n",
    "                break\n",
    "\n",
    "        if not found:\n",
    "            self.arr[h].append((key, val))\n",
    "\n",
    "\n",
    "    def __getitem__(self, key):\n",
    "\n",
    "        h = self.get_hash(key)\n",
    "\n",
    "        for element in self.arr[h]:\n",
    "            if element[0] == key:\n",
    "                return element[1]\n",
    "    \n",
    "    def __delitem__(self, key):\n",
    "\n",
    "        h = self.get_hash(key)\n",
    "        \n",
    "        for idx, element in enumerate(self.arr[h]):\n",
    "            if element[0] == key:\n",
    "                del self.arr[h][idx]"
   ]
  },
  {
   "cell_type": "code",
   "execution_count": 37,
   "metadata": {},
   "outputs": [],
   "source": [
    "temp_table = HashTable()\n",
    "\n",
    "for element in df.values.tolist():\n",
    "\n",
    "    temp_table[element[0]] = element[1]\n",
    "\n"
   ]
  },
  {
   "cell_type": "code",
   "execution_count": 39,
   "metadata": {},
   "outputs": [
    {
     "data": {
      "text/plain": [
       "[[('Jan 9', 35), ('Jan 10', 30)],\n",
       " [],\n",
       " [('Jan 1', 27)],\n",
       " [('Jan 2', 31)],\n",
       " [('Jan 3', 23)],\n",
       " [('Jan 4', 34)],\n",
       " [('Jan 5', 37)],\n",
       " [('Jan 6', 38)],\n",
       " [('Jan 7', 29)],\n",
       " [('Jan 8', 30)]]"
      ]
     },
     "execution_count": 39,
     "metadata": {},
     "output_type": "execute_result"
    }
   ],
   "source": [
    "temp_table.arr"
   ]
  },
  {
   "cell_type": "markdown",
   "metadata": {},
   "source": [
    "### Q2.1 What was the temperature on Jan 9?"
   ]
  },
  {
   "cell_type": "code",
   "execution_count": 40,
   "metadata": {},
   "outputs": [
    {
     "data": {
      "text/plain": [
       "35"
      ]
     },
     "execution_count": 40,
     "metadata": {},
     "output_type": "execute_result"
    }
   ],
   "source": [
    "temp_table['Jan 9']"
   ]
  },
  {
   "cell_type": "markdown",
   "metadata": {},
   "source": [
    "### Q2.2 What was the temperature on Jan 4?"
   ]
  },
  {
   "cell_type": "code",
   "execution_count": 41,
   "metadata": {},
   "outputs": [
    {
     "data": {
      "text/plain": [
       "34"
      ]
     },
     "execution_count": 41,
     "metadata": {},
     "output_type": "execute_result"
    }
   ],
   "source": [
    "temp_table['Jan 4']"
   ]
  },
  {
   "cell_type": "markdown",
   "metadata": {},
   "source": [
    "### Q2.3 Figure out data structure that is best for this problem"
   ]
  },
  {
   "cell_type": "markdown",
   "metadata": {},
   "source": [
    "I think that the best data structure for storing temperature with date is hash map"
   ]
  },
  {
   "cell_type": "markdown",
   "metadata": {},
   "source": [
    "### Q3 poem.txt Contains famous poem \"Road not taken\" by poet Robert Frost. You have to read this file in python and print every word and its count as show below. Think about the best data structure that you can use to solve this problem and figure out why you selected that specific data structure."
   ]
  },
  {
   "cell_type": "code",
   "execution_count": 78,
   "metadata": {},
   "outputs": [],
   "source": [
    "with open('data/poem.txt', 'r') as f:\n",
    "    file = f.read()\n",
    "\n",
    "file_cln = file.replace(',','')\n",
    "file_cln = file_cln.replace('\\n',' ')\n",
    "file_cln = file_cln.replace('.','')\n",
    "file_cln = file_cln.replace('—',' ')\n",
    "file_cln = file_cln.replace(':',' ')\n",
    "file_cln = file_cln.lower()\n",
    "words = file_cln.split(' ')"
   ]
  },
  {
   "cell_type": "code",
   "execution_count": 79,
   "metadata": {},
   "outputs": [],
   "source": [
    "class WordCount:\n",
    "\n",
    "    def __init__(self) -> None:\n",
    "        self.MAX = 10\n",
    "        self.arr = [[] for i in range(self.MAX)]\n",
    "\n",
    "    def get_hash(self, key):\n",
    "\n",
    "        h = 0\n",
    "        for char in key:\n",
    "            h+= ord(char)\n",
    "\n",
    "        return h % self.MAX\n",
    "\n",
    "    def __setitem__(self, key, val=1):\n",
    "\n",
    "        h = self.get_hash(key)\n",
    "        \n",
    "        found = False\n",
    "        for idx, element in enumerate(self.arr[h]):\n",
    "            \n",
    "            if len(element) == 2 and element[0] == key:\n",
    "                found = True\n",
    "                # print(\"element found\")\n",
    "                count = element[1] + val\n",
    "                self.arr[h][idx] = (key, count)\n",
    "                break\n",
    "\n",
    "        if not found:\n",
    "            count = 1\n",
    "            self.arr[h].append((key, count))\n",
    "\n",
    "\n",
    "    def __getitem__(self, key):\n",
    "\n",
    "        h = self.get_hash(key)\n",
    "\n",
    "        for element in self.arr[h]:\n",
    "            if element[0] == key:\n",
    "                return element[1]\n",
    "    \n",
    "    def __delitem__(self, key):\n",
    "\n",
    "        h = self.get_hash(key)\n",
    "        \n",
    "        for idx, element in enumerate(self.arr[h]):\n",
    "            if element[0] == key:\n",
    "                del self.arr[h][idx]"
   ]
  },
  {
   "cell_type": "code",
   "execution_count": 80,
   "metadata": {},
   "outputs": [],
   "source": [
    "wc = WordCount()"
   ]
  },
  {
   "cell_type": "code",
   "execution_count": 81,
   "metadata": {},
   "outputs": [],
   "source": [
    "for word in words:\n",
    "    wc[word] = 1"
   ]
  },
  {
   "cell_type": "code",
   "execution_count": 84,
   "metadata": {},
   "outputs": [
    {
     "data": {
      "text/plain": [
       "2"
      ]
     },
     "execution_count": 84,
     "metadata": {},
     "output_type": "execute_result"
    }
   ],
   "source": [
    "wc['two']"
   ]
  },
  {
   "cell_type": "code",
   "execution_count": 83,
   "metadata": {},
   "outputs": [
    {
     "name": "stdout",
     "output_type": "stream",
     "text": [
      "two\n",
      "roads\n",
      "diverged\n",
      "in\n",
      "a\n",
      "yellow\n",
      "wood\n",
      "and\n",
      "sorry\n",
      "i\n",
      "could\n",
      "not\n",
      "travel\n",
      "both\n",
      "and\n",
      "be\n",
      "one\n",
      "traveler\n",
      "long\n",
      "i\n",
      "stood\n",
      "and\n",
      "looked\n",
      "down\n",
      "one\n",
      "as\n",
      "far\n",
      "as\n",
      "i\n",
      "could\n",
      "to\n",
      "where\n",
      "it\n",
      "bent\n",
      "in\n",
      "the\n",
      "undergrowth;\n",
      "\n",
      "then\n",
      "took\n",
      "the\n",
      "other\n",
      "as\n",
      "just\n",
      "as\n",
      "fair\n",
      "and\n",
      "having\n",
      "perhaps\n",
      "the\n",
      "better\n",
      "claim\n",
      "because\n",
      "it\n",
      "was\n",
      "grassy\n",
      "and\n",
      "wanted\n",
      "wear;\n",
      "though\n",
      "as\n",
      "for\n",
      "that\n",
      "the\n",
      "passing\n",
      "there\n",
      "had\n",
      "worn\n",
      "them\n",
      "really\n",
      "about\n",
      "the\n",
      "same\n",
      "\n",
      "and\n",
      "both\n",
      "that\n",
      "morning\n",
      "equally\n",
      "lay\n",
      "in\n",
      "leaves\n",
      "no\n",
      "step\n",
      "had\n",
      "trodden\n",
      "black\n",
      "oh\n",
      "i\n",
      "kept\n",
      "the\n",
      "first\n",
      "for\n",
      "another\n",
      "day!\n",
      "yet\n",
      "knowing\n",
      "how\n",
      "way\n",
      "leads\n",
      "on\n",
      "to\n",
      "way\n",
      "i\n",
      "doubted\n",
      "if\n",
      "i\n",
      "should\n",
      "ever\n",
      "come\n",
      "back\n",
      "\n",
      "i\n",
      "shall\n",
      "be\n",
      "telling\n",
      "this\n",
      "with\n",
      "a\n",
      "sigh\n",
      "somewhere\n",
      "ages\n",
      "and\n",
      "ages\n",
      "hence\n",
      "\n",
      "two\n",
      "roads\n",
      "diverged\n",
      "in\n",
      "a\n",
      "wood\n",
      "and\n",
      "i\n",
      "\n",
      "i\n",
      "took\n",
      "the\n",
      "one\n",
      "less\n",
      "traveled\n",
      "by\n",
      "and\n",
      "that\n",
      "has\n",
      "made\n",
      "all\n",
      "the\n",
      "difference\n"
     ]
    }
   ],
   "source": [
    "for word in words:\n",
    "    # if word == 'two':\n",
    "    print(word)"
   ]
  },
  {
   "cell_type": "markdown",
   "metadata": {},
   "source": [
    "### Q4 Implement hash table where collisions are handled using linear probing. We learnt about linear probing in the video tutorial. Take the hash table implementation that uses chaining and modify methods to use linear probing. Keep MAX size of arr in hashtable as 10."
   ]
  },
  {
   "cell_type": "code",
   "execution_count": 135,
   "metadata": {},
   "outputs": [],
   "source": [
    "class HashTableLP:\n",
    "\n",
    "    def __init__(self) -> None:\n",
    "        self.MAX = 10\n",
    "        self.arr = [[] for i in range(self.MAX)]\n",
    "\n",
    "    def get_hash(self, key):\n",
    "\n",
    "        h = 0\n",
    "        for char in key:\n",
    "            h+= ord(char)\n",
    "\n",
    "        return h % self.MAX\n",
    "\n",
    "    def __setitem__(self, key, val):\n",
    "\n",
    "        h = self.get_hash(key)\n",
    "        \n",
    "\n",
    "        if len(self.arr[h]) == 0:\n",
    "            self.arr[h] = (key, val)\n",
    "        else:\n",
    "            while len(self.arr[h]) != 0:\n",
    "\n",
    "                if self.arr[h][0] == key:\n",
    "                    self.arr[h] = (key, val)\n",
    "                    break\n",
    "                else:\n",
    "                    h = h + 1\n",
    "                    if len(self.arr[h]) == 0:\n",
    "                        self.arr[h] = (key, val)\n",
    "                        break\n",
    "                \n",
    "\n",
    "    def __getitem__(self, key):\n",
    "\n",
    "        h = self.get_hash(key)\n",
    "\n",
    "        for element in self.arr[h]:\n",
    "            if element[0] == key:\n",
    "                return element[1]\n",
    "    \n",
    "    def __delitem__(self, key):\n",
    "\n",
    "        h = self.get_hash(key)\n",
    "        \n",
    "        for idx, element in enumerate(self.arr[h]):\n",
    "            if element[0] == key:\n",
    "                del self.arr[h][idx]"
   ]
  },
  {
   "cell_type": "code",
   "execution_count": 136,
   "metadata": {},
   "outputs": [],
   "source": [
    "lp = HashTableLP()"
   ]
  },
  {
   "cell_type": "code",
   "execution_count": 148,
   "metadata": {},
   "outputs": [
    {
     "data": {
      "text/plain": [
       "[[], [], [], [], [], [], [], ('10', 1000), ('29', 1000), ('47', 50000)]"
      ]
     },
     "execution_count": 148,
     "metadata": {},
     "output_type": "execute_result"
    }
   ],
   "source": [
    "lp['10'] = 1000\n",
    "lp.arr"
   ]
  },
  {
   "cell_type": "code",
   "execution_count": 149,
   "metadata": {},
   "outputs": [
    {
     "data": {
      "text/plain": [
       "[[], [], [], [], [], [], [], ('10', 1000), ('29', 2000), ('47', 50000)]"
      ]
     },
     "execution_count": 149,
     "metadata": {},
     "output_type": "execute_result"
    }
   ],
   "source": [
    "lp['29'] = 2000\n",
    "lp.arr"
   ]
  },
  {
   "cell_type": "code",
   "execution_count": 150,
   "metadata": {},
   "outputs": [
    {
     "data": {
      "text/plain": [
       "[[], [], [], [], [], [], [], ('10', 1000), ('29', 2000), ('47', 20000)]"
      ]
     },
     "execution_count": 150,
     "metadata": {},
     "output_type": "execute_result"
    }
   ],
   "source": [
    "lp['47'] = 20000\n",
    "lp.arr"
   ]
  },
  {
   "cell_type": "code",
   "execution_count": 140,
   "metadata": {},
   "outputs": [
    {
     "data": {
      "text/plain": [
       "7"
      ]
     },
     "execution_count": 140,
     "metadata": {},
     "output_type": "execute_result"
    }
   ],
   "source": [
    "lp.get_hash('47')"
   ]
  },
  {
   "cell_type": "code",
   "execution_count": 141,
   "metadata": {},
   "outputs": [],
   "source": [
    "q3_comp = HashTable()"
   ]
  },
  {
   "cell_type": "code",
   "execution_count": 142,
   "metadata": {},
   "outputs": [
    {
     "data": {
      "text/plain": [
       "[[], [], [], [], [], [], [], [('10', 1000)], [], []]"
      ]
     },
     "execution_count": 142,
     "metadata": {},
     "output_type": "execute_result"
    }
   ],
   "source": [
    "q3_comp['10'] = 1000\n",
    "q3_comp.arr"
   ]
  },
  {
   "cell_type": "code",
   "execution_count": 143,
   "metadata": {},
   "outputs": [
    {
     "data": {
      "text/plain": [
       "[[], [], [], [], [], [], [], [('10', 1000), ('29', 2000)], [], []]"
      ]
     },
     "execution_count": 143,
     "metadata": {},
     "output_type": "execute_result"
    }
   ],
   "source": [
    "q3_comp['29'] = 2000\n",
    "q3_comp.arr"
   ]
  },
  {
   "cell_type": "code",
   "execution_count": 144,
   "metadata": {},
   "outputs": [
    {
     "data": {
      "text/plain": [
       "[[],\n",
       " [],\n",
       " [],\n",
       " [],\n",
       " [],\n",
       " [],\n",
       " [],\n",
       " [('10', 1000), ('29', 2000), ('47', 20000)],\n",
       " [],\n",
       " []]"
      ]
     },
     "execution_count": 144,
     "metadata": {},
     "output_type": "execute_result"
    }
   ],
   "source": [
    "q3_comp['47'] = 20000\n",
    "q3_comp.arr"
   ]
  },
  {
   "cell_type": "markdown",
   "metadata": {},
   "source": [
    "### Codebasics's solution"
   ]
  },
  {
   "cell_type": "code",
   "execution_count": 10,
   "metadata": {},
   "outputs": [],
   "source": [
    "class HashTableLPCB:  \n",
    "    def __init__(self):\n",
    "        self.MAX = 10 # I am keeping size very low to demonstrate linear probing easily but usually the size should be high\n",
    "        self.arr = [None for i in range(self.MAX)]\n",
    "        \n",
    "    def get_hash(self, key):\n",
    "        hash = 0\n",
    "        for char in key:\n",
    "            hash += ord(char)\n",
    "        return hash % self.MAX\n",
    "    \n",
    "    def __getitem__(self, key):\n",
    "        h = self.get_hash(key)\n",
    "        if self.arr[h] is None:\n",
    "            return\n",
    "        prob_range = self.get_prob_range(h)\n",
    "        for prob_index in prob_range:\n",
    "            element = self.arr[prob_index]\n",
    "            if element is None:\n",
    "                return\n",
    "            if element[0] == key:\n",
    "                return element[1]\n",
    "           \n",
    "    def __setitem__(self, key, val):\n",
    "        h = self.get_hash(key)\n",
    "        if self.arr[h] is None:\n",
    "            self.arr[h] = (key,val)\n",
    "        else:\n",
    "            new_h = self.find_slot(key, h)\n",
    "            self.arr[new_h] = (key,val)\n",
    "        print(self.arr)\n",
    "        \n",
    "    def get_prob_range(self, index):\n",
    "        # Tanishq : I think it will first try to search in the higher indices and then it will search in the lower ones    \n",
    "        return [*range(index, len(self.arr))] + [*range(0,index)]\n",
    "    \n",
    "    def find_slot(self, key, index):\n",
    "        prob_range = self.get_prob_range(index)\n",
    "        for prob_index in prob_range:\n",
    "            if self.arr[prob_index] is None:\n",
    "                return prob_index\n",
    "            if self.arr[prob_index][0] == key:\n",
    "                return prob_index\n",
    "        raise Exception(\"Hashmap full\")\n",
    "        \n",
    "    def __delitem__(self, key):\n",
    "        h = self.get_hash(key)\n",
    "        prob_range = self.get_prob_range(h)\n",
    "        for prob_index in prob_range:\n",
    "            if self.arr[prob_index] is None:\n",
    "                return # item not found so return. You can also throw exception\n",
    "            if self.arr[prob_index][0] == key:\n",
    "                self.arr[prob_index]=None\n",
    "        print(self.arr)"
   ]
  },
  {
   "cell_type": "code",
   "execution_count": 11,
   "metadata": {},
   "outputs": [],
   "source": [
    "lpcb = HashTableLPCB()"
   ]
  },
  {
   "cell_type": "code",
   "execution_count": 12,
   "metadata": {},
   "outputs": [
    {
     "name": "stdout",
     "output_type": "stream",
     "text": [
      "[None, None, None, None, None, None, None, ('10', 1000), None, None]\n"
     ]
    },
    {
     "data": {
      "text/plain": [
       "[None, None, None, None, None, None, None, ('10', 1000), None, None]"
      ]
     },
     "execution_count": 12,
     "metadata": {},
     "output_type": "execute_result"
    }
   ],
   "source": [
    "lpcb['10'] = 1000\n",
    "lpcb.arr"
   ]
  },
  {
   "cell_type": "code",
   "execution_count": 13,
   "metadata": {},
   "outputs": [
    {
     "name": "stdout",
     "output_type": "stream",
     "text": [
      "[None, None, None, None, None, None, None, ('10', 1000), ('29', 2000), None]\n"
     ]
    },
    {
     "data": {
      "text/plain": [
       "[None, None, None, None, None, None, None, ('10', 1000), ('29', 2000), None]"
      ]
     },
     "execution_count": 13,
     "metadata": {},
     "output_type": "execute_result"
    }
   ],
   "source": [
    "lpcb['29'] = 2000\n",
    "lpcb.arr"
   ]
  },
  {
   "cell_type": "code",
   "execution_count": 14,
   "metadata": {},
   "outputs": [
    {
     "name": "stdout",
     "output_type": "stream",
     "text": [
      "[None, None, None, None, None, None, None, ('10', 1000), ('29', 2000), ('47', 20000)]\n"
     ]
    },
    {
     "data": {
      "text/plain": [
       "[None,\n",
       " None,\n",
       " None,\n",
       " None,\n",
       " None,\n",
       " None,\n",
       " None,\n",
       " ('10', 1000),\n",
       " ('29', 2000),\n",
       " ('47', 20000)]"
      ]
     },
     "execution_count": 14,
     "metadata": {},
     "output_type": "execute_result"
    }
   ],
   "source": [
    "lpcb['47'] = 20000\n",
    "lpcb.arr"
   ]
  },
  {
   "cell_type": "code",
   "execution_count": null,
   "metadata": {},
   "outputs": [],
   "source": []
  }
 ],
 "metadata": {
  "kernelspec": {
   "display_name": ".venv",
   "language": "python",
   "name": "python3"
  },
  "language_info": {
   "codemirror_mode": {
    "name": "ipython",
    "version": 3
   },
   "file_extension": ".py",
   "mimetype": "text/x-python",
   "name": "python",
   "nbconvert_exporter": "python",
   "pygments_lexer": "ipython3",
   "version": "3.12.3"
  }
 },
 "nbformat": 4,
 "nbformat_minor": 2
}
