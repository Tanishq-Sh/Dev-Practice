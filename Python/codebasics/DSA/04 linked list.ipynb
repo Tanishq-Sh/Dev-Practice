{
 "cells": [
  {
   "cell_type": "code",
   "execution_count": 22,
   "metadata": {},
   "outputs": [],
   "source": [
    "# Linked List in python\n",
    "\n",
    "class Node:\n",
    "\n",
    "    # to create nodes with data which will have None as the pointer to next node by default\n",
    "    def __init__(self, data=None, next=None) -> None:\n",
    "        self.data = data\n",
    "        self.next = next\n",
    "\n",
    "\n",
    "class LinkedList :\n",
    "\n",
    "    # all linked list must have a head, so we start with creating a head and initializing it to None\n",
    "    def __init__(self) -> None:\n",
    "        self.head = None\n",
    "\n",
    "    # we want to insert a node at the beginning\n",
    "    # to create a node we call the node class\n",
    "    # initially there was no head so we pass self.head which is None by default\n",
    "    # after the Node is created, we have our head, so we set self.head = node\n",
    "\n",
    "    def insert_at_start(self, data):\n",
    "        # print(self.head)\n",
    "        node = Node(data, self.head)\n",
    "        self.head = node\n",
    "\n",
    "\n",
    "    def insert_at_end(self, data):\n",
    "\n",
    "        if self.head is None:\n",
    "            self.head = Node(data, None)\n",
    "            return \n",
    "        \n",
    "        itr = self.head\n",
    "\n",
    "        while itr.next:\n",
    "            itr = itr.next\n",
    "\n",
    "        itr.next = Node(data, None)\n",
    "\n",
    "\n",
    "    def insert_values(self, value_list):\n",
    "\n",
    "        if len(value_list) == 0:\n",
    "            raise \"Invalid List\"\n",
    "\n",
    "\n",
    "        for value in value_list:\n",
    "            # print(f'value : {value}')\n",
    "            # print(f\"self.head : {self.head}\")\n",
    "            if self.head is None:\n",
    "                self.head = Node(value, None)\n",
    "            else:\n",
    "                # print(value)\n",
    "                # LinkedList.insert_at_end(self, value)\n",
    "                self.insert_at_end(value)\n",
    "\n",
    "    def get_length(self):\n",
    "\n",
    "        if self.head is None:\n",
    "            count = 0\n",
    "        else:\n",
    "            itr = self.head\n",
    "            count = 1\n",
    "            if itr.next is None:\n",
    "                # print(f\"Length : {count}\")\n",
    "                return count\n",
    "            else:    \n",
    "                while itr.next:\n",
    "                    count+=1\n",
    "                    itr = itr.next\n",
    "\n",
    "        # print(f\"Length : {count}\")\n",
    "        return count\n",
    "        \n",
    "\n",
    "    def remove_at(self, idx):\n",
    "\n",
    "        if idx >= self.get_length():\n",
    "            print(\"Wrong index passed\")\n",
    "            raise IndexError\n",
    "        \n",
    "        if idx == 0:\n",
    "            self.head = self.head.next\n",
    "            return \n",
    "        \n",
    "        count = 0\n",
    "        itr = self.head\n",
    "\n",
    "        while itr:\n",
    "\n",
    "            if count == idx - 1:\n",
    "                itr.next = itr.next.next\n",
    "                break\n",
    "            \n",
    "            itr = itr.next \n",
    "            count+=1\n",
    "\n",
    "\n",
    "    def insert_at(self, idx, ele):\n",
    "        \n",
    "        if idx > self.get_length():\n",
    "            print(\"Wrong index passed\")\n",
    "            raise IndexError\n",
    "        \n",
    "        if idx == 0:\n",
    "            self.insert_at_start(ele)\n",
    "            return\n",
    "        \n",
    "        count = 0\n",
    "        itr = self.head\n",
    "\n",
    "        while itr:\n",
    "            if count == idx - 1:\n",
    "                node = Node(ele, itr.next)\n",
    "                itr.next = node \n",
    "\n",
    "            itr = itr.next \n",
    "            count += 1\n",
    "\n",
    "\n",
    "        pass\n",
    "\n",
    "\n",
    "\n",
    "    def insert_after_value(self, data_after, data_to_insert):\n",
    "\n",
    "        itr = self.head\n",
    "        print(f\"Insert {data_to_insert} after {data_after}\")\n",
    "\n",
    "        while itr:\n",
    "\n",
    "            # print(itr, itr.data, itr.next.data)\n",
    "\n",
    "            if itr.data == data_after:\n",
    "                # print(\"Yes here\")\n",
    "                node = Node(data_to_insert, None)\n",
    "                # print(f\"New Node Created : data : {node.data}, next : {node.next}\")\n",
    "                # print(f\"before pointing node {itr.data} --> {itr.next.data}\") \n",
    "                old_node = itr.next\n",
    "                itr.next = node\n",
    "                # print(f\"logic pointing node {itr.data} --> {itr.next.data}\") \n",
    "                itr.next.next = old_node\n",
    "                # print(f\"new pointing node {itr.next.data} --> {itr.next.next.data}\") \n",
    "                # break\n",
    "            #     node.next = itr.next.next \n",
    "\n",
    "            itr = itr.next\n",
    "\n",
    "\n",
    "    def remove_by_value(self, remove_data):\n",
    "\n",
    "        itr = self.head\n",
    "        count = 0\n",
    "\n",
    "        while itr:\n",
    "\n",
    "            if itr.data == remove_data:\n",
    "                print(\"Found a match!\")\n",
    "                self.remove_at(count)\n",
    "                return \n",
    "\n",
    "            itr = itr.next\n",
    "            count+=1\n",
    "\n",
    "\n",
    "        print(f\"'{remove_data}' is not present in the linked list\")\n",
    "        return\n",
    "\n",
    "\n",
    "\n",
    "\n",
    "\n",
    "\n",
    "\n",
    "    # if there is no head then the linked list is empty\n",
    "    # if head is there then we need to check till the tail to print the full linked list\n",
    "    # itr.next is equivalent to accessing the address of next attribute of the node object\n",
    "    # itr.data is equivalent to accessing the address of data attribute of the node object\n",
    "\n",
    "    def print(self):\n",
    "        if self.head is None:\n",
    "            print(\"Linked list is empty!\")\n",
    "            return\n",
    "\n",
    "        itr = self.head\n",
    "        llstr = ''\n",
    "\n",
    "        while itr:\n",
    "            llstr += str(itr.data)+'-->'\n",
    "            itr = itr.next\n",
    "\n",
    "        print(llstr)"
   ]
  },
  {
   "cell_type": "code",
   "execution_count": 19,
   "metadata": {},
   "outputs": [
    {
     "name": "stdout",
     "output_type": "stream",
     "text": [
      "Tanishq-->Harshita-->Aditi-->Aparna-->Mahima-->Vibhor-->\n"
     ]
    }
   ],
   "source": [
    "if __name__ == '__main__':\n",
    "    # ll = LinkedList()\n",
    "    # ll.insert_at_start(5)\n",
    "    # ll.insert_at_start(89)\n",
    "    # ll.insert_at_start(100)\n",
    "    # ll.print()\n",
    "    \n",
    "    # ll = LinkedList()\n",
    "    # ll.insert_at_end(5)\n",
    "    # ll.insert_at_end(89)\n",
    "    # ll.insert_at_end(100)\n",
    "    # ll.print()\n",
    "\n",
    "    # ll = LinkedList()\n",
    "    # ll.insert_values(['Tanishq','Harshita','Aditi'])\n",
    "    # ll.insert_values(['Tanishq'])\n",
    "    # ll.print()\n",
    "    # ll.remove_at(0)\n",
    "    # ll.insert_at(2, 'figs')\n",
    "    # ll.print()\n",
    "\n",
    "    ll = LinkedList()\n",
    "    ll.insert_values(['Tanishq','Harshita','Aditi','Aparna','Mahima','Vibhor'])\n",
    "    ll.print()"
   ]
  },
  {
   "cell_type": "code",
   "execution_count": 21,
   "metadata": {},
   "outputs": [
    {
     "name": "stdout",
     "output_type": "stream",
     "text": [
      "'Harshita' is not present in the linked list\n",
      "Tanishq-->Aditi-->Aparna-->Mahima-->Vibhor-->\n",
      "Found a match!\n",
      "Aditi-->Aparna-->Mahima-->Vibhor-->\n"
     ]
    }
   ],
   "source": [
    "ll.remove_by_value('Harshita')\n",
    "ll.print()\n",
    "ll.remove_by_value('Tanishq')\n",
    "ll.print()"
   ]
  },
  {
   "cell_type": "code",
   "execution_count": 56,
   "metadata": {},
   "outputs": [
    {
     "name": "stdout",
     "output_type": "stream",
     "text": [
      "Insert Aparna after Aparna\n"
     ]
    },
    {
     "ename": "KeyboardInterrupt",
     "evalue": "",
     "output_type": "error",
     "traceback": [
      "\u001b[0;31m---------------------------------------------------------------------------\u001b[0m",
      "\u001b[0;31mKeyboardInterrupt\u001b[0m                         Traceback (most recent call last)",
      "File \u001b[0;32m_zmq.py:141\u001b[0m, in \u001b[0;36mzmq.backend.cython._zmq._check_rc\u001b[0;34m()\u001b[0m\n",
      "\u001b[0;31mKeyboardInterrupt\u001b[0m: "
     ]
    },
    {
     "name": "stderr",
     "output_type": "stream",
     "text": [
      "Exception ignored in: 'zmq.backend.cython._zmq.Frame.__del__'\n",
      "Traceback (most recent call last):\n",
      "  File \"_zmq.py\", line 141, in zmq.backend.cython._zmq._check_rc\n",
      "KeyboardInterrupt: \n"
     ]
    }
   ],
   "source": [
    "# ll.insert_after_value('Tanishq', 'Aparna')\n",
    "# ll.insert_after_value('Aparna', 'Aparna')\n",
    "# ll.print()"
   ]
  },
  {
   "cell_type": "code",
   "execution_count": null,
   "metadata": {},
   "outputs": [],
   "source": [
    "ll.get_length()"
   ]
  },
  {
   "cell_type": "code",
   "execution_count": null,
   "metadata": {},
   "outputs": [],
   "source": [
    "ll = LinkedList()\n",
    "ll.insert_values(['Tanishq','Harshita','Aditi'])\n",
    "ll.print()"
   ]
  },
  {
   "cell_type": "code",
   "execution_count": null,
   "metadata": {},
   "outputs": [],
   "source": [
    "ll.insert_after_value('Harshita', 'Savi')\n",
    "ll.print()"
   ]
  },
  {
   "cell_type": "markdown",
   "metadata": {},
   "source": [
    "# Test Cases"
   ]
  },
  {
   "cell_type": "code",
   "execution_count": 23,
   "metadata": {},
   "outputs": [
    {
     "name": "stdout",
     "output_type": "stream",
     "text": [
      "banana-->mango-->grapes-->orange-->\n",
      "Insert apple after mango\n",
      "banana-->mango-->apple-->grapes-->orange-->\n",
      "Found a match!\n",
      "banana-->mango-->apple-->grapes-->\n",
      "'figs' is not present in the linked list\n",
      "banana-->mango-->apple-->grapes-->\n",
      "Found a match!\n",
      "Found a match!\n",
      "Found a match!\n",
      "Found a match!\n",
      "Linked list is empty!\n"
     ]
    }
   ],
   "source": [
    "ll = LinkedList()\n",
    "ll.insert_values([\"banana\",\"mango\",\"grapes\",\"orange\"])\n",
    "ll.print()\n",
    "ll.insert_after_value(\"mango\",\"apple\") # insert apple after mango\n",
    "ll.print()\n",
    "ll.remove_by_value(\"orange\") # remove orange from linked list\n",
    "ll.print()\n",
    "ll.remove_by_value(\"figs\")\n",
    "ll.print()\n",
    "ll.remove_by_value(\"banana\")\n",
    "ll.remove_by_value(\"mango\")\n",
    "ll.remove_by_value(\"apple\")\n",
    "ll.remove_by_value(\"grapes\")\n",
    "ll.print()"
   ]
  },
  {
   "cell_type": "code",
   "execution_count": null,
   "metadata": {},
   "outputs": [],
   "source": []
  }
 ],
 "metadata": {
  "kernelspec": {
   "display_name": ".venv",
   "language": "python",
   "name": "python3"
  },
  "language_info": {
   "codemirror_mode": {
    "name": "ipython",
    "version": 3
   },
   "file_extension": ".py",
   "mimetype": "text/x-python",
   "name": "python",
   "nbconvert_exporter": "python",
   "pygments_lexer": "ipython3",
   "version": "3.12.3"
  }
 },
 "nbformat": 4,
 "nbformat_minor": 2
}
