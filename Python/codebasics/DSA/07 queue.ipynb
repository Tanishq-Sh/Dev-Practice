{
 "cells": [
  {
   "cell_type": "markdown",
   "metadata": {},
   "source": [
    "## Note : Remember Queue by FIFO"
   ]
  },
  {
   "cell_type": "markdown",
   "metadata": {},
   "source": [
    "### Python implementation of queue using List"
   ]
  },
  {
   "cell_type": "code",
   "execution_count": 1,
   "metadata": {},
   "outputs": [],
   "source": [
    "aapl_stock_price_queue = []"
   ]
  },
  {
   "cell_type": "code",
   "execution_count": 2,
   "metadata": {},
   "outputs": [],
   "source": [
    "aapl_stock_price_queue.insert(0,131.10)\n",
    "aapl_stock_price_queue.insert(0,132.12)\n",
    "aapl_stock_price_queue.insert(0,135)"
   ]
  },
  {
   "cell_type": "code",
   "execution_count": 3,
   "metadata": {},
   "outputs": [
    {
     "data": {
      "text/plain": [
       "[135, 132.12, 131.1]"
      ]
     },
     "execution_count": 3,
     "metadata": {},
     "output_type": "execute_result"
    }
   ],
   "source": [
    "aapl_stock_price_queue"
   ]
  },
  {
   "cell_type": "code",
   "execution_count": 4,
   "metadata": {},
   "outputs": [
    {
     "data": {
      "text/plain": [
       "131.1"
      ]
     },
     "execution_count": 4,
     "metadata": {},
     "output_type": "execute_result"
    }
   ],
   "source": [
    "aapl_stock_price_queue.pop()"
   ]
  },
  {
   "cell_type": "code",
   "execution_count": 5,
   "metadata": {},
   "outputs": [
    {
     "data": {
      "text/plain": [
       "132.12"
      ]
     },
     "execution_count": 5,
     "metadata": {},
     "output_type": "execute_result"
    }
   ],
   "source": [
    "aapl_stock_price_queue.pop()"
   ]
  },
  {
   "cell_type": "code",
   "execution_count": 6,
   "metadata": {},
   "outputs": [
    {
     "data": {
      "text/plain": [
       "135"
      ]
     },
     "execution_count": 6,
     "metadata": {},
     "output_type": "execute_result"
    }
   ],
   "source": [
    "aapl_stock_price_queue.pop()"
   ]
  },
  {
   "cell_type": "markdown",
   "metadata": {},
   "source": [
    "### Python implementation of queue using deque from collections"
   ]
  },
  {
   "cell_type": "code",
   "execution_count": 7,
   "metadata": {},
   "outputs": [],
   "source": [
    "from collections import deque\n",
    "q = deque()"
   ]
  },
  {
   "cell_type": "code",
   "execution_count": 8,
   "metadata": {},
   "outputs": [],
   "source": [
    "q.appendleft(5)\n",
    "q.appendleft(8)\n",
    "q.appendleft(20)"
   ]
  },
  {
   "cell_type": "code",
   "execution_count": 9,
   "metadata": {},
   "outputs": [
    {
     "data": {
      "text/plain": [
       "5"
      ]
     },
     "execution_count": 9,
     "metadata": {},
     "output_type": "execute_result"
    }
   ],
   "source": [
    "q.pop()"
   ]
  },
  {
   "cell_type": "code",
   "execution_count": 10,
   "metadata": {},
   "outputs": [
    {
     "data": {
      "text/plain": [
       "8"
      ]
     },
     "execution_count": 10,
     "metadata": {},
     "output_type": "execute_result"
    }
   ],
   "source": [
    "q.pop()"
   ]
  },
  {
   "cell_type": "code",
   "execution_count": 11,
   "metadata": {},
   "outputs": [
    {
     "data": {
      "text/plain": [
       "20"
      ]
     },
     "execution_count": 11,
     "metadata": {},
     "output_type": "execute_result"
    }
   ],
   "source": [
    "q.pop()"
   ]
  },
  {
   "cell_type": "code",
   "execution_count": 123,
   "metadata": {},
   "outputs": [],
   "source": [
    "class Queue:\n",
    "\n",
    "    def __init__(self) -> None:\n",
    "        self.buffer = deque()\n",
    "\n",
    "    def enqueue(self, val):\n",
    "        self.buffer.appendleft(val)\n",
    "\n",
    "    def dequeue(self):\n",
    "        return self.buffer.pop()\n",
    "    \n",
    "    def front(self):\n",
    "        return self.buffer.popleft()\n",
    "\n",
    "    def is_empty(self):\n",
    "        return len(self.buffer)==0\n",
    "    \n",
    "    def size(self):\n",
    "        return len(self.buffer)"
   ]
  },
  {
   "cell_type": "code",
   "execution_count": 13,
   "metadata": {},
   "outputs": [],
   "source": [
    "pq = Queue()\n",
    "\n",
    "pq.enqueue({\n",
    "    'company':'Apple',\n",
    "    'timestamp':'15 apr, 11.01 AM',\n",
    "    'price':131.10,\n",
    "})\n",
    "\n",
    "pq.enqueue({\n",
    "    'company':'Apple',\n",
    "    'timestamp':'15 apr, 11.02 AM',\n",
    "    'price':132,\n",
    "})\n",
    "\n",
    "pq.enqueue({\n",
    "    'company':'Apple',\n",
    "    'timestamp':'15 apr, 11.03 AM',\n",
    "    'price':135,\n",
    "})"
   ]
  },
  {
   "cell_type": "code",
   "execution_count": 14,
   "metadata": {},
   "outputs": [
    {
     "data": {
      "text/plain": [
       "3"
      ]
     },
     "execution_count": 14,
     "metadata": {},
     "output_type": "execute_result"
    }
   ],
   "source": [
    "pq.size()"
   ]
  },
  {
   "cell_type": "code",
   "execution_count": 15,
   "metadata": {},
   "outputs": [
    {
     "data": {
      "text/plain": [
       "deque([{'company': 'Apple', 'timestamp': '15 apr, 11.03 AM', 'price': 135},\n",
       "       {'company': 'Apple', 'timestamp': '15 apr, 11.02 AM', 'price': 132},\n",
       "       {'company': 'Apple', 'timestamp': '15 apr, 11.01 AM', 'price': 131.1}])"
      ]
     },
     "execution_count": 15,
     "metadata": {},
     "output_type": "execute_result"
    }
   ],
   "source": [
    "pq.buffer"
   ]
  },
  {
   "cell_type": "code",
   "execution_count": 16,
   "metadata": {},
   "outputs": [
    {
     "data": {
      "text/plain": [
       "{'company': 'Apple', 'timestamp': '15 apr, 11.01 AM', 'price': 131.1}"
      ]
     },
     "execution_count": 16,
     "metadata": {},
     "output_type": "execute_result"
    }
   ],
   "source": [
    "pq.dequeue()"
   ]
  },
  {
   "cell_type": "code",
   "execution_count": 17,
   "metadata": {},
   "outputs": [
    {
     "data": {
      "text/plain": [
       "2"
      ]
     },
     "execution_count": 17,
     "metadata": {},
     "output_type": "execute_result"
    }
   ],
   "source": [
    "pq.size()"
   ]
  },
  {
   "cell_type": "markdown",
   "metadata": {},
   "source": [
    "### Queue Exercise\n",
    "\n",
    "For all exercises use Queue class implemented in main tutorial.\n",
    "\n",
    "Q1 Design a food ordering system where your python program will run two threads,\n",
    "\n",
    "Place Order: This thread will be placing an order and inserting that into a queue. This thread places new order every 0.5 second. (hint: use time.sleep(0.5) function)\n",
    "\n",
    "Serve Order: This thread will server the order. All you need to do is pop the order out of the queue and print it. This thread serves an order every 2 seconds. Also start this thread 1 second after place order thread is started.\n",
    "Use this video to get yourself familiar with multithreading in python\n",
    "\n",
    "Pass following list as an argument to place order thread,\n",
    "\n",
    "orders = ['pizza','samosa','pasta','biryani','burger']\n",
    "\n",
    "This problem is a producer,consumer problem where place_order thread is producing orders whereas server_order thread is consuming the food orders. \n",
    "\n",
    "Use Queue class implemented in a video tutorial."
   ]
  },
  {
   "cell_type": "code",
   "execution_count": 38,
   "metadata": {},
   "outputs": [],
   "source": [
    "qobj = Queue()"
   ]
  },
  {
   "cell_type": "code",
   "execution_count": 39,
   "metadata": {},
   "outputs": [],
   "source": [
    "import time"
   ]
  },
  {
   "cell_type": "code",
   "execution_count": 40,
   "metadata": {},
   "outputs": [],
   "source": [
    "import threading\n",
    "\n",
    "orders = ['pizza','samosa','pasta','biryani','burger']\n",
    "\n",
    "def place_order(qobj, food_items):\n",
    "    \n",
    "    for food_item in food_items:\n",
    "        time.sleep(0.5)\n",
    "        qobj.enqueue(food_item)\n",
    "        print(f\"Placed order {food_item}\")\n",
    "\n",
    "def serve_order(qobj):\n",
    "    while qobj.size() > 0:\n",
    "        time.sleep(2)\n",
    "        served_object = qobj.dequeue()\n",
    "        print(f\"Now serving {served_object}\")\n",
    "\n",
    "order_thread = threading.Thread(target=place_order, name='Thread 1', args=(qobj, orders))\n",
    "serve_thread = threading.Thread(target=serve_order, name='Thread 2', args=(qobj,))"
   ]
  },
  {
   "cell_type": "code",
   "execution_count": 41,
   "metadata": {},
   "outputs": [
    {
     "name": "stdout",
     "output_type": "stream",
     "text": [
      "Placed order pizza\n",
      "Placed order samosa\n",
      "Placed order pasta\n",
      "Placed order biryani\n",
      "Placed order burger\n",
      "Now serving pizza\n",
      "Now serving samosa\n",
      "Now serving pasta\n",
      "Now serving biryani\n",
      "Now serving burger\n"
     ]
    }
   ],
   "source": [
    "order_thread.start()\n",
    "time.sleep(1)  # Introduce a small delay\n",
    "serve_thread.start()\n",
    "\n",
    "# Join threads\n",
    "order_thread.join()\n",
    "serve_thread.join()"
   ]
  },
  {
   "cell_type": "markdown",
   "metadata": {},
   "source": [
    "Q2 Write a program to print binary numbers from 1 to 10 using Queue. Use Queue class implemented in main tutorial. Binary sequence should look like,\n",
    "\n",
    "    1\n",
    "\n",
    "    10\n",
    "\n",
    "    11\n",
    "\n",
    "    100\n",
    "\n",
    "    101\n",
    "\n",
    "    110\n",
    "\n",
    "    111\n",
    "\n",
    "    1000\n",
    "\n",
    "    1001\n",
    "\n",
    "    1010\n",
    "\n",
    "Hint: Notice a pattern above. After 1 second and third number is 1+0 and 1+1. 4th and 5th number are second number (i.e. 10) + 0 and second number (i.e. 10) + 1.\n",
    "\n",
    "You also need to add front() function in queue class that can return the front element in the queue."
   ]
  },
  {
   "cell_type": "code",
   "execution_count": 132,
   "metadata": {},
   "outputs": [],
   "source": [
    "def num_to_binary(num, bin_seq=''):\n",
    "\n",
    "    quo = num//2\n",
    "    rem = num%2\n",
    "\n",
    "    if quo == 0:\n",
    "        return '1'\n",
    "\n",
    "    bin_seq = bin_seq+str(rem)\n",
    "    # print(num, quo, rem, bin_seq)\n",
    "\n",
    "    if quo != 1:\n",
    "        return num_to_binary(quo, bin_seq)[::-1]\n",
    "    else:\n",
    "        return (bin_seq+'1')[::-1]\n",
    "    \n",
    "def num_to_binary_queue(bin_q, num):\n",
    "\n",
    "    quo = num//2\n",
    "    rem = num%2\n",
    "\n",
    "    if quo == 0:\n",
    "        bin_q.enqueue(1)\n",
    "        return bin_q\n",
    "\n",
    "    bin_q.enqueue(rem)\n",
    "    \n",
    "    if quo != 1:\n",
    "        return num_to_binary_queue(bin_q, quo)\n",
    "    else:\n",
    "        bin_q.enqueue(1)\n",
    "        return bin_q\n",
    "    \n",
    "def queue_to_binary_string(queue_final):\n",
    "\n",
    "    binary_string = ''\n",
    "    while queue_final.size() > 0:\n",
    "        binary_string += str(queue_final.front())\n",
    "\n",
    "    return binary_string\n",
    "        "
   ]
  },
  {
   "cell_type": "code",
   "execution_count": 133,
   "metadata": {},
   "outputs": [],
   "source": [
    "bin_q = Queue()\n"
   ]
  },
  {
   "cell_type": "code",
   "execution_count": 140,
   "metadata": {},
   "outputs": [
    {
     "name": "stdout",
     "output_type": "stream",
     "text": [
      "Binary for '1' is '1'\n",
      "Binary for '2' is '10'\n",
      "Binary for '3' is '11'\n",
      "Binary for '4' is '100'\n",
      "Binary for '5' is '101'\n",
      "Binary for '6' is '110'\n",
      "Binary for '7' is '111'\n",
      "Binary for '8' is '1000'\n",
      "Binary for '9' is '1001'\n",
      "Binary for '10' is '1010'\n"
     ]
    }
   ],
   "source": [
    "for i in range(1,11):\n",
    "    queue_final = num_to_binary_queue(bin_q, i)\n",
    "    print(f\"Binary for '{i}' is '{queue_to_binary_string(queue_final)}'\")"
   ]
  }
 ],
 "metadata": {
  "kernelspec": {
   "display_name": ".venv",
   "language": "python",
   "name": "python3"
  },
  "language_info": {
   "codemirror_mode": {
    "name": "ipython",
    "version": 3
   },
   "file_extension": ".py",
   "mimetype": "text/x-python",
   "name": "python",
   "nbconvert_exporter": "python",
   "pygments_lexer": "ipython3",
   "version": "3.12.3"
  }
 },
 "nbformat": 4,
 "nbformat_minor": 2
}
