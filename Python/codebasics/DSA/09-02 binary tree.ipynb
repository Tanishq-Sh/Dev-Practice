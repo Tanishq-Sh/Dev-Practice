{
 "cells": [
  {
   "cell_type": "code",
   "execution_count": 33,
   "metadata": {},
   "outputs": [],
   "source": [
    "class BinarySearchTreeNode:\n",
    "\n",
    "    def __init__(self, data) -> None:\n",
    "        self.data = data \n",
    "        self.left = None \n",
    "        self.right = None \n",
    "\n",
    "    def add_child(self, data):\n",
    "\n",
    "        if self.data == data:\n",
    "            return \n",
    "        \n",
    "        if self.data > data:\n",
    "            if self.left:\n",
    "                self.left.add_child(data)\n",
    "            else:\n",
    "                self.left = BinarySearchTreeNode(data) \n",
    "        \n",
    "        if self.data < data:\n",
    "            if self.right:\n",
    "                self.right.add_child(data)\n",
    "            else:\n",
    "                self.right = BinarySearchTreeNode(data) \n",
    "\n",
    "    # exercise methods\n",
    "    def find_min(self):\n",
    "\n",
    "        if self.left:\n",
    "            return self.left.find_min()\n",
    "\n",
    "        return self.data\n",
    "    \n",
    "    def find_max(self):\n",
    "\n",
    "        if self.right:\n",
    "            return self.right.find_max()\n",
    "\n",
    "        return self.data\n",
    "\n",
    "    def search(self, val):\n",
    "\n",
    "        if self.data == val:\n",
    "            return True \n",
    "        \n",
    "        if val > self.data:\n",
    "            if self.right:\n",
    "                return self.right.search(val)\n",
    "            else:\n",
    "                return False\n",
    "        else:\n",
    "            if self.left:\n",
    "                return self.left.search(val)\n",
    "            else:\n",
    "                return False\n",
    "            \n",
    "    def in_order_traversal(self):\n",
    "\n",
    "        elements = []\n",
    "\n",
    "        if self.left:\n",
    "            elements += self.left.in_order_traversal()\n",
    "        \n",
    "        elements += [self.data]\n",
    "\n",
    "        if self.right:\n",
    "            elements += self.right.in_order_traversal()\n",
    "\n",
    "        return elements\n",
    "    \n",
    "    def delete(self, val):\n",
    "        \n",
    "        if val < self.data:\n",
    "            if self.left:\n",
    "                self.left = self.left.delete(val)\n",
    "            else:\n",
    "                return None\n",
    "           \n",
    "        elif val > self.data:\n",
    "            if self.right:\n",
    "                self.right = self.right.delete(val)\n",
    "            else:\n",
    "                return None\n",
    "            \n",
    "        else:\n",
    "            if self.left is None and self.right is None:\n",
    "                return None\n",
    "            \n",
    "            if self.left is None:\n",
    "                return self.right \n",
    "            \n",
    "            if self.right is None:\n",
    "                return self.left\n",
    "            \n",
    "            min_val = self.right.find_min()\n",
    "            self.data = min_val\n",
    "\n",
    "            self.right = self.right.delete(min_val)\n",
    "\n",
    "        \n",
    "        return self"
   ]
  },
  {
   "cell_type": "code",
   "execution_count": 34,
   "metadata": {},
   "outputs": [],
   "source": [
    "def build_tree(elements):\n",
    "    root = BinarySearchTreeNode(elements[0])\n",
    "\n",
    "    for i in range(1,len(elements)):\n",
    "        root.add_child(elements[i])\n",
    "\n",
    "    return root\n"
   ]
  },
  {
   "cell_type": "code",
   "execution_count": 35,
   "metadata": {},
   "outputs": [],
   "source": [
    "# elements = [1,3,6,10,20,14,11,30]\n",
    "elements = [17,4,1,20,9,23,18,34]\n",
    "numbers_tree = build_tree(elements)"
   ]
  },
  {
   "cell_type": "code",
   "execution_count": 36,
   "metadata": {},
   "outputs": [
    {
     "data": {
      "text/plain": [
       "[1, 4, 17, 18, 20, 23, 34]"
      ]
     },
     "execution_count": 36,
     "metadata": {},
     "output_type": "execute_result"
    }
   ],
   "source": [
    "numbers_tree.delete(9)\n",
    "numbers_tree.in_order_traversal()"
   ]
  },
  {
   "cell_type": "markdown",
   "metadata": {},
   "source": [
    "## Exercise using find_max() method"
   ]
  },
  {
   "cell_type": "code",
   "execution_count": 42,
   "metadata": {},
   "outputs": [],
   "source": [
    "class BinarySearchTreeNode_exercise:\n",
    "\n",
    "    def __init__(self, data) -> None:\n",
    "        self.data = data \n",
    "        self.left = None \n",
    "        self.right = None \n",
    "\n",
    "    def add_child(self, data):\n",
    "\n",
    "        if self.data == data:\n",
    "            return \n",
    "        \n",
    "        if self.data > data:\n",
    "            if self.left:\n",
    "                self.left.add_child(data)\n",
    "            else:\n",
    "                self.left = BinarySearchTreeNode(data) \n",
    "        \n",
    "        if self.data < data:\n",
    "            if self.right:\n",
    "                self.right.add_child(data)\n",
    "            else:\n",
    "                self.right = BinarySearchTreeNode(data) \n",
    "\n",
    "    # exercise methods\n",
    "    def find_min(self):\n",
    "\n",
    "        if self.left:\n",
    "            return self.left.find_min()\n",
    "\n",
    "        return self.data\n",
    "    \n",
    "    def find_max(self):\n",
    "\n",
    "        if self.right:\n",
    "            return self.right.find_max()\n",
    "\n",
    "        return self.data\n",
    "\n",
    "    def search(self, val):\n",
    "\n",
    "        if self.data == val:\n",
    "            return True \n",
    "        \n",
    "        if val > self.data:\n",
    "            if self.right:\n",
    "                return self.right.search(val)\n",
    "            else:\n",
    "                return False\n",
    "        else:\n",
    "            if self.left:\n",
    "                return self.left.search(val)\n",
    "            else:\n",
    "                return False\n",
    "            \n",
    "    def in_order_traversal(self):\n",
    "\n",
    "        elements = []\n",
    "\n",
    "        if self.left:\n",
    "            elements += self.left.in_order_traversal()\n",
    "        \n",
    "        elements += [self.data]\n",
    "\n",
    "        if self.right:\n",
    "            elements += self.right.in_order_traversal()\n",
    "\n",
    "        return elements\n",
    "    \n",
    "    def delete(self, val):\n",
    "        \n",
    "        if val < self.data:\n",
    "            if self.left:\n",
    "                self.left = self.left.delete(val)\n",
    "            else:\n",
    "                return None\n",
    "           \n",
    "        elif val > self.data:\n",
    "            if self.right:\n",
    "                self.right = self.right.delete(val)\n",
    "            else:\n",
    "                return None\n",
    "            \n",
    "        else:\n",
    "            if self.left is None and self.right is None:\n",
    "                return None\n",
    "            \n",
    "            if self.left is None:\n",
    "                return self.right \n",
    "            \n",
    "            if self.right is None:\n",
    "                return self.left\n",
    "            \n",
    "            max_val = self.left.find_max()\n",
    "            self.data = max_val\n",
    "\n",
    "            self.left = self.left.delete(max_val)\n",
    "\n",
    "        \n",
    "        return self #I checked that it works fine even without this line"
   ]
  },
  {
   "cell_type": "code",
   "execution_count": 43,
   "metadata": {},
   "outputs": [],
   "source": [
    "def build_tree_exercise(elements):\n",
    "    root = BinarySearchTreeNode_exercise(elements[0])\n",
    "\n",
    "    for i in range(1,len(elements)):\n",
    "        root.add_child(elements[i])\n",
    "\n",
    "    return root\n"
   ]
  },
  {
   "cell_type": "code",
   "execution_count": 45,
   "metadata": {},
   "outputs": [
    {
     "data": {
      "text/plain": [
       "[1, 4, 9, 17, 18, 20, 23, 34]"
      ]
     },
     "execution_count": 45,
     "metadata": {},
     "output_type": "execute_result"
    }
   ],
   "source": [
    "# elements = [1,3,6,10,20,14,11,30]\n",
    "elements = [17,4,1,20,9,23,18,34]\n",
    "numbers_tree = build_tree_exercise(elements)\n",
    "numbers_tree.in_order_traversal()"
   ]
  },
  {
   "cell_type": "code",
   "execution_count": 46,
   "metadata": {},
   "outputs": [
    {
     "data": {
      "text/plain": [
       "[1, 4, 17, 18, 20, 23, 34]"
      ]
     },
     "execution_count": 46,
     "metadata": {},
     "output_type": "execute_result"
    }
   ],
   "source": [
    "numbers_tree.delete(9)\n",
    "numbers_tree.in_order_traversal()"
   ]
  },
  {
   "cell_type": "code",
   "execution_count": 47,
   "metadata": {},
   "outputs": [
    {
     "data": {
      "text/plain": [
       "[1, 4, 17, 18, 23, 34]"
      ]
     },
     "execution_count": 47,
     "metadata": {},
     "output_type": "execute_result"
    }
   ],
   "source": [
    "numbers_tree.delete(20)\n",
    "numbers_tree.in_order_traversal()"
   ]
  },
  {
   "cell_type": "code",
   "execution_count": null,
   "metadata": {},
   "outputs": [],
   "source": []
  }
 ],
 "metadata": {
  "kernelspec": {
   "display_name": ".venv",
   "language": "python",
   "name": "python3"
  },
  "language_info": {
   "codemirror_mode": {
    "name": "ipython",
    "version": 3
   },
   "file_extension": ".py",
   "mimetype": "text/x-python",
   "name": "python",
   "nbconvert_exporter": "python",
   "pygments_lexer": "ipython3",
   "version": "3.12.3"
  }
 },
 "nbformat": 4,
 "nbformat_minor": 2
}
