{
 "cells": [
  {
   "cell_type": "code",
   "execution_count": 69,
   "metadata": {},
   "outputs": [],
   "source": [
    "class Graph:\n",
    "    def __init__(self, edges) -> None:\n",
    "        self.edges = edges\n",
    "        self.graph_dict = {}\n",
    "        for start, end in self.edges:\n",
    "            if start in self.graph_dict:\n",
    "                self.graph_dict[start].append(end)\n",
    "            else:\n",
    "                self.graph_dict[start] = [end]\n",
    "\n",
    "        print(\"Graph Dict:\", self.graph_dict)\n",
    "\n",
    "    def get_paths(self, start, end, path=[]):\n",
    "\n",
    "        path = path + [start]\n",
    "\n",
    "        if start == end:\n",
    "            return [path]\n",
    "        \n",
    "        if start not in self.graph_dict:\n",
    "            return []\n",
    "        \n",
    "        paths = []\n",
    "\n",
    "        for node in self.graph_dict[start]:\n",
    "\n",
    "            if node not in path:\n",
    "                new_paths = self.get_paths(node, end, path)\n",
    "                for p in new_paths:\n",
    "                    paths.append(p)\n",
    "\n",
    "        return paths\n",
    "    \n",
    "    def get_shortest_path(self, start, end, path=[]):\n",
    "        \n",
    "        path = path + [start]\n",
    "\n",
    "        if start == end:\n",
    "            return path\n",
    "        \n",
    "        if start not in self.graph_dict:\n",
    "            return None \n",
    "        \n",
    "        shortest_path = None\n",
    "\n",
    "        for node in self.graph_dict[start]:\n",
    "            if node not in path:\n",
    "                sp = self.get_shortest_path(node, end, path)\n",
    "                if sp:\n",
    "                    if shortest_path is None or len(sp) < len(shortest_path):\n",
    "                        shortest_path = sp \n",
    "        \n",
    "        return shortest_path"
   ]
  },
  {
   "cell_type": "code",
   "execution_count": 70,
   "metadata": {},
   "outputs": [
    {
     "name": "stdout",
     "output_type": "stream",
     "text": [
      "Graph Dict: {'Mumbai': ['Paris', 'Dubai'], 'Paris': ['Dubai', 'New York'], 'Dubai': ['New York'], 'New York': ['Toronto']}\n",
      "Shortest Paths between Mumbai and New York:  ['Mumbai', 'Paris', 'New York']\n"
     ]
    }
   ],
   "source": [
    "if __name__ == '__main__':\n",
    "    routes = [\n",
    "        ('Mumbai', 'Paris'),\n",
    "        ('Mumbai', 'Dubai'),\n",
    "        ('Paris', 'Dubai'),\n",
    "        ('Paris', 'New York'),\n",
    "        ('Dubai', 'New York'),\n",
    "        ('New York', 'Toronto'),\n",
    "    ]\n",
    "\n",
    "    route_graph = Graph(routes)    \n",
    "\n",
    "    # d = {\n",
    "    #     \"Mumbai\" : [\"Paris\", \"Dubai\"],\n",
    "    #     \"Paris\" : [\"Dubai\", \"New York\"],\n",
    "    # }\n",
    "\n",
    "    start = 'Mumbai'\n",
    "    # end = 'Toronto'\n",
    "    end = 'New York'\n",
    "    # print(f\"Paths between {start} and {end}: \",route_graph.get_paths(start, end))\n",
    "    print(f\"Shortest Paths between {start} and {end}: \",route_graph.get_shortest_path(start, end))"
   ]
  },
  {
   "cell_type": "code",
   "execution_count": 64,
   "metadata": {},
   "outputs": [
    {
     "name": "stdout",
     "output_type": "stream",
     "text": [
      "Paths between Mumbai and New York:  [['Mumbai', 'Paris', 'New York']]\n"
     ]
    }
   ],
   "source": []
  },
  {
   "cell_type": "code",
   "execution_count": 12,
   "metadata": {},
   "outputs": [],
   "source": [
    "test_dict = {\n",
    "                'Mumbai': ['Paris', 'Dubai'], \n",
    "                'Paris': ['Dubai', 'New York'], \n",
    "                'New York': ['Toronto']\n",
    "            }"
   ]
  },
  {
   "cell_type": "code",
   "execution_count": 18,
   "metadata": {},
   "outputs": [
    {
     "data": {
      "text/plain": [
       "[['Mumbai', 'Paris'],\n",
       " ['Mumbai', 'Dubai'],\n",
       " ['Paris', 'Dubai'],\n",
       " ['Paris', 'New York'],\n",
       " ['New York', 'Toronto']]"
      ]
     },
     "execution_count": 18,
     "metadata": {},
     "output_type": "execute_result"
    }
   ],
   "source": [
    "test_path = []\n",
    "\n",
    "for node in test_dict:\n",
    "    for end in test_dict[node]:\n",
    "        test_path.append([node, end])\n",
    "\n",
    "test_path"
   ]
  },
  {
   "cell_type": "code",
   "execution_count": null,
   "metadata": {},
   "outputs": [],
   "source": []
  }
 ],
 "metadata": {
  "kernelspec": {
   "display_name": ".venv",
   "language": "python",
   "name": "python3"
  },
  "language_info": {
   "codemirror_mode": {
    "name": "ipython",
    "version": 3
   },
   "file_extension": ".py",
   "mimetype": "text/x-python",
   "name": "python",
   "nbconvert_exporter": "python",
   "pygments_lexer": "ipython3",
   "version": "3.12.3"
  }
 },
 "nbformat": 4,
 "nbformat_minor": 2
}
