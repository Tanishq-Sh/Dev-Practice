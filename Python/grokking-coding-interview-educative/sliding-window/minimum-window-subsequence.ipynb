{
 "cells": [
  {
   "cell_type": "markdown",
   "metadata": {},
   "source": [
    "## Statement\n",
    "```Given two strings, str1 and str2, find the shortest substring in str1 such that str2 is a subsequence of that substring.\n",
    "\n",
    "A substring is defined as a contiguous sequence of characters within a string. A subsequence is a sequence that can be derived from another sequence by deleting zero or more elements without changing the order of the remaining elements."
   ]
  },
  {
   "cell_type": "code",
   "execution_count": 28,
   "metadata": {},
   "outputs": [],
   "source": [
    "def min_window(str1, str2):\n",
    "    \n",
    "    size_str1, size_str2 = len(str1), len(str2)\n",
    "    index_s1 = 0\n",
    "    index_s2 = 0\n",
    "    min_sub_len = float('inf')\n",
    "    min_subsequence = \"\"\n",
    "    \n",
    "    # loop until all the characters in str1 are traversed\n",
    "    while index_s1 < size_str1:\n",
    "        \n",
    "        # character match condition between the two strings\n",
    "        if str1[index_s1] == str2[index_s2]:\n",
    "            # if the first character of str2 is matched, then record the index in \"start\" variable\n",
    "            if index_s2 == 0:\n",
    "                start = index_s1\n",
    "            # move to the next character\n",
    "            index_s2 = index_s2 + 1\n",
    "\n",
    "            # check if the full str2 is traversed, if yes then record the index in \"end\" variable\n",
    "            if index_s2 == size_str2:\n",
    "                end = index_s1\n",
    "                \n",
    "                # check if the length of current seq is less than the previous value\n",
    "                if end - start + 1 < min_sub_len:\n",
    "                    min_sub_len = end - start + 1\n",
    "                    min_subsequence = str1[start:end+1]\n",
    "                \n",
    "                # set index pointer of str1 to the next value to be traversed on\n",
    "                index_s1 = start\n",
    "                index_s2 = 0\n",
    "        \n",
    "        # increment the index pointer of str1 is characters at current indices don't match\n",
    "        index_s1 = index_s1 + 1\n",
    "                \n",
    "    return min_subsequence\n",
    "            "
   ]
  },
  {
   "cell_type": "code",
   "execution_count": 36,
   "metadata": {},
   "outputs": [],
   "source": [
    "def min_window_optimized(str1, str2):\n",
    "    \n",
    "    size_str1, size_str2 = len(str1), len(str2)\n",
    "    index_s1 = 0\n",
    "    index_s2 = 0\n",
    "    min_sub_len = float('inf')\n",
    "    min_subsequence = \"\"\n",
    "    \n",
    "    # loop until all the characters in str1 are traversed\n",
    "    while index_s1 < size_str1:\n",
    "        \n",
    "        # character match condition between the two strings\n",
    "        if str1[index_s1] == str2[index_s2]:\n",
    "            # move to the next character\n",
    "            index_s2 = index_s2 + 1\n",
    "\n",
    "            # check if the full str2 is traversed, if yes then record the index in \"end\" variable\n",
    "            if index_s2 == size_str2:\n",
    "                start = index_s1\n",
    "                end = index_s1\n",
    "                index_s2 = index_s2 - 1\n",
    "                \n",
    "                while index_s2 >= 0:\n",
    "                    if str1[start] == str2[index_s2]:\n",
    "                        index_s2 = index_s2 - 1\n",
    "                    start = start - 1\n",
    "            \n",
    "                start = start + 1\n",
    "                \n",
    "                # check if the length of current seq is less than the previous value\n",
    "                if end - start < min_sub_len:\n",
    "                    min_sub_len = end - start + 1\n",
    "                    min_subsequence = str1[start:end+1]\n",
    "                \n",
    "                # set index pointer of str1 to the next value to be traversed on\n",
    "                index_s1 = start\n",
    "                index_s2 = 0\n",
    "        \n",
    "        # increment the index pointer of str1 is characters at current indices don't match\n",
    "        index_s1 = index_s1 + 1\n",
    "                \n",
    "    return min_subsequence\n",
    "            "
   ]
  },
  {
   "cell_type": "code",
   "execution_count": 37,
   "metadata": {},
   "outputs": [
    {
     "name": "stdout",
     "output_type": "stream",
     "text": [
      "aqdweq\n"
     ]
    }
   ],
   "source": [
    "str1 = 'abcdedeaqdweq'\n",
    "str2 = 'adeq'\n",
    "print(min_window(str1, str2))"
   ]
  },
  {
   "cell_type": "code",
   "execution_count": 38,
   "metadata": {},
   "outputs": [
    {
     "name": "stdout",
     "output_type": "stream",
     "text": [
      "aqdweq\n"
     ]
    }
   ],
   "source": [
    "str1 = 'abcdedeaqdweq'\n",
    "str2 = 'adeq'\n",
    "print(min_window_optimized(str1, str2))"
   ]
  }
 ],
 "metadata": {
  "kernelspec": {
   "display_name": "se_env",
   "language": "python",
   "name": "se_env"
  },
  "language_info": {
   "codemirror_mode": {
    "name": "ipython",
    "version": 3
   },
   "file_extension": ".py",
   "mimetype": "text/x-python",
   "name": "python",
   "nbconvert_exporter": "python",
   "pygments_lexer": "ipython3",
   "version": "3.12.3"
  }
 },
 "nbformat": 4,
 "nbformat_minor": 2
}
